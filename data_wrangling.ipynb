{
  "nbformat": 4,
  "nbformat_minor": 0,
  "metadata": {
    "colab": {
      "name": "data-wrangling.ipynb",
      "provenance": []
    },
    "kernelspec": {
      "name": "python3",
      "display_name": "Python 3"
    },
    "language_info": {
      "name": "python"
    }
  },
  "cells": [
    {
      "cell_type": "markdown",
      "metadata": {
        "id": "tJS4N-V7CWM1"
      },
      "source": [
        "\n",
        "##Importación de librerías y lectura de datos\n",
        "\n",
        "\n"
      ]
    },
    {
      "cell_type": "code",
      "metadata": {
        "id": "SlG4IEVXBaUw"
      },
      "source": [
        "import pandas as pd\n",
        "import numpy as np\n"
      ],
      "execution_count": 1,
      "outputs": []
    },
    {
      "cell_type": "code",
      "metadata": {
        "colab": {
          "base_uri": "https://localhost:8080/"
        },
        "id": "9fKYQd1UCjwD",
        "outputId": "328a1cda-01df-41da-bcbc-02bfb2c602cc"
      },
      "source": [
        "from google.colab import drive\n",
        "drive.mount ('/content/drive')"
      ],
      "execution_count": 2,
      "outputs": [
        {
          "output_type": "stream",
          "text": [
            "Mounted at /content/drive\n"
          ],
          "name": "stdout"
        }
      ]
    },
    {
      "cell_type": "code",
      "metadata": {
        "id": "sTOL5b0dCvC4"
      },
      "source": [
        "df = pd.read_csv ('/content/drive/MyDrive/Ironhack/Archivos/attacks.csv', encoding = 'latin-1')"
      ],
      "execution_count": 229,
      "outputs": []
    },
    {
      "cell_type": "code",
      "metadata": {
        "colab": {
          "base_uri": "https://localhost:8080/",
          "height": 485
        },
        "id": "yE_CBqz9X18p",
        "outputId": "b33f081e-c103-4c19-dee7-473760063124"
      },
      "source": [
        "df[30:33]"
      ],
      "execution_count": 230,
      "outputs": [
        {
          "output_type": "execute_result",
          "data": {
            "text/html": [
              "<div>\n",
              "<style scoped>\n",
              "    .dataframe tbody tr th:only-of-type {\n",
              "        vertical-align: middle;\n",
              "    }\n",
              "\n",
              "    .dataframe tbody tr th {\n",
              "        vertical-align: top;\n",
              "    }\n",
              "\n",
              "    .dataframe thead th {\n",
              "        text-align: right;\n",
              "    }\n",
              "</style>\n",
              "<table border=\"1\" class=\"dataframe\">\n",
              "  <thead>\n",
              "    <tr style=\"text-align: right;\">\n",
              "      <th></th>\n",
              "      <th>Case Number</th>\n",
              "      <th>Date</th>\n",
              "      <th>Year</th>\n",
              "      <th>Type</th>\n",
              "      <th>Country</th>\n",
              "      <th>Area</th>\n",
              "      <th>Location</th>\n",
              "      <th>Activity</th>\n",
              "      <th>Name</th>\n",
              "      <th>Sex</th>\n",
              "      <th>Age</th>\n",
              "      <th>Injury</th>\n",
              "      <th>Fatal (Y/N)</th>\n",
              "      <th>Time</th>\n",
              "      <th>Species</th>\n",
              "      <th>Investigator or Source</th>\n",
              "      <th>pdf</th>\n",
              "      <th>href formula</th>\n",
              "      <th>href</th>\n",
              "      <th>Case Number.1</th>\n",
              "      <th>Case Number.2</th>\n",
              "      <th>original order</th>\n",
              "      <th>Unnamed: 22</th>\n",
              "      <th>Unnamed: 23</th>\n",
              "    </tr>\n",
              "  </thead>\n",
              "  <tbody>\n",
              "    <tr>\n",
              "      <th>30</th>\n",
              "      <td>2018.04.14</td>\n",
              "      <td>14-Apr-2018</td>\n",
              "      <td>2018.0</td>\n",
              "      <td>Unprovoked</td>\n",
              "      <td>BAHAMAS</td>\n",
              "      <td>New Providence</td>\n",
              "      <td>Nirvana Beach</td>\n",
              "      <td>Surfing</td>\n",
              "      <td>Bruce Rowan</td>\n",
              "      <td>M</td>\n",
              "      <td>NaN</td>\n",
              "      <td>No Injury. Shark swam away with the surf board</td>\n",
              "      <td>N</td>\n",
              "      <td>09h30</td>\n",
              "      <td>Tiger shark</td>\n",
              "      <td>Tribune242,</td>\n",
              "      <td>2018.04.14-Rowan.pff</td>\n",
              "      <td>http://sharkattackfile.net/spreadsheets/pdf_di...</td>\n",
              "      <td>http://sharkattackfile.net/spreadsheets/pdf_di...</td>\n",
              "      <td>2018.04.14</td>\n",
              "      <td>2018.04.14</td>\n",
              "      <td>6273.0</td>\n",
              "      <td>NaN</td>\n",
              "      <td>NaN</td>\n",
              "    </tr>\n",
              "    <tr>\n",
              "      <th>31</th>\n",
              "      <td>2018.04.10.R</td>\n",
              "      <td>Reported 10-Apr-2018</td>\n",
              "      <td>2018.0</td>\n",
              "      <td>Invalid</td>\n",
              "      <td>BRAZIL</td>\n",
              "      <td>Alagoas</td>\n",
              "      <td>Praia de Sauaçuhy, Maceió</td>\n",
              "      <td>Fishing</td>\n",
              "      <td>Josias Paz</td>\n",
              "      <td>M</td>\n",
              "      <td>56</td>\n",
              "      <td>Injury to ankle from marine animal trapped in ...</td>\n",
              "      <td>N</td>\n",
              "      <td>NaN</td>\n",
              "      <td>Shark involvement not confirmed</td>\n",
              "      <td>K. McMurray, TrackingSharks.com</td>\n",
              "      <td>2018.04.10.R-Paz.pdf</td>\n",
              "      <td>http://sharkattackfile.net/spreadsheets/pdf_di...</td>\n",
              "      <td>http://sharkattackfile.net/spreadsheets/pdf_di...</td>\n",
              "      <td>2018.04.10.R</td>\n",
              "      <td>2018.04.10.R</td>\n",
              "      <td>6272.0</td>\n",
              "      <td>NaN</td>\n",
              "      <td>NaN</td>\n",
              "    </tr>\n",
              "    <tr>\n",
              "      <th>32</th>\n",
              "      <td>2018.04.09</td>\n",
              "      <td>09-Apr-2018</td>\n",
              "      <td>2018.0</td>\n",
              "      <td>Unprovoked</td>\n",
              "      <td>NEW CALEDONIA</td>\n",
              "      <td>NaN</td>\n",
              "      <td>Magenta Beach, Noumea</td>\n",
              "      <td>Windsurfing</td>\n",
              "      <td>NaN</td>\n",
              "      <td>NaN</td>\n",
              "      <td>NaN</td>\n",
              "      <td>No injury, shark bit board</td>\n",
              "      <td>N</td>\n",
              "      <td>17h00</td>\n",
              "      <td>2 m shark</td>\n",
              "      <td>Les Nouvelles Caledoniennes, 4/10/2018</td>\n",
              "      <td>2018.04.09-Magenta.pdf</td>\n",
              "      <td>http://sharkattackfile.net/spreadsheets/pdf_di...</td>\n",
              "      <td>http://sharkattackfile.net/spreadsheets/pdf_di...</td>\n",
              "      <td>2018.04.09</td>\n",
              "      <td>2018.04.09</td>\n",
              "      <td>6271.0</td>\n",
              "      <td>NaN</td>\n",
              "      <td>NaN</td>\n",
              "    </tr>\n",
              "  </tbody>\n",
              "</table>\n",
              "</div>"
            ],
            "text/plain": [
              "     Case Number                  Date  ...  Unnamed: 22 Unnamed: 23\n",
              "30    2018.04.14           14-Apr-2018  ...          NaN         NaN\n",
              "31  2018.04.10.R  Reported 10-Apr-2018  ...          NaN         NaN\n",
              "32    2018.04.09           09-Apr-2018  ...          NaN         NaN\n",
              "\n",
              "[3 rows x 24 columns]"
            ]
          },
          "metadata": {
            "tags": []
          },
          "execution_count": 230
        }
      ]
    },
    {
      "cell_type": "code",
      "metadata": {
        "colab": {
          "base_uri": "https://localhost:8080/"
        },
        "id": "nD9jNsBkAv6Y",
        "outputId": "29bf86cb-c125-4040-ccee-086c34ced817"
      },
      "source": [
        "df.columns"
      ],
      "execution_count": 232,
      "outputs": [
        {
          "output_type": "execute_result",
          "data": {
            "text/plain": [
              "Index(['Case Number', 'Date', 'Year', 'Type', 'Country', 'Area', 'Location',\n",
              "       'Activity', 'Name', 'Sex ', 'Age', 'Injury', 'Fatal (Y/N)', 'Time',\n",
              "       'Species ', 'Investigator or Source', 'pdf', 'href formula', 'href',\n",
              "       'Case Number.1', 'Case Number.2', 'original order', 'Unnamed: 22',\n",
              "       'Unnamed: 23'],\n",
              "      dtype='object')"
            ]
          },
          "metadata": {
            "tags": []
          },
          "execution_count": 232
        }
      ]
    },
    {
      "cell_type": "markdown",
      "metadata": {
        "id": "gICqoCwngdKP"
      },
      "source": [
        "##Arreglar nombres de columnas"
      ]
    },
    {
      "cell_type": "code",
      "metadata": {
        "colab": {
          "base_uri": "https://localhost:8080/"
        },
        "id": "TjVMf6J0eT4g",
        "outputId": "1b27281e-0464-4971-f95f-9f9d32a3869d"
      },
      "source": [
        "column_names=df.columns\n",
        "column_names"
      ],
      "execution_count": 235,
      "outputs": [
        {
          "output_type": "execute_result",
          "data": {
            "text/plain": [
              "Index(['Case Number', 'Date', 'Year', 'Type', 'Country', 'Area', 'Location',\n",
              "       'Activity', 'Name', 'Sex', 'Age', 'Injury', 'Fatal (Y/N)', 'Time',\n",
              "       'Species', 'Investigator or Source', 'pdf', 'href formula', 'href',\n",
              "       'Case Number.1', 'Case Number.2', 'original order', 'Unnamed: 22',\n",
              "       'Unnamed: 23'],\n",
              "      dtype='object')"
            ]
          },
          "metadata": {
            "tags": []
          },
          "execution_count": 235
        }
      ]
    },
    {
      "cell_type": "code",
      "metadata": {
        "colab": {
          "base_uri": "https://localhost:8080/"
        },
        "id": "JzteHjr_ex94",
        "outputId": "981551a4-658c-4fc8-e98d-8334954d7391"
      },
      "source": [
        "df.columns = df.columns.str.strip() #parece que sólo tiene sex, pero puede que otro\n",
        "column_names \n",
        "#len(column_names)"
      ],
      "execution_count": 236,
      "outputs": [
        {
          "output_type": "execute_result",
          "data": {
            "text/plain": [
              "Index(['Case Number', 'Date', 'Year', 'Type', 'Country', 'Area', 'Location',\n",
              "       'Activity', 'Name', 'Sex', 'Age', 'Injury', 'Fatal (Y/N)', 'Time',\n",
              "       'Species', 'Investigator or Source', 'pdf', 'href formula', 'href',\n",
              "       'Case Number.1', 'Case Number.2', 'original order', 'Unnamed: 22',\n",
              "       'Unnamed: 23'],\n",
              "      dtype='object')"
            ]
          },
          "metadata": {
            "tags": []
          },
          "execution_count": 236
        }
      ]
    },
    {
      "cell_type": "markdown",
      "metadata": {
        "id": "1Ab_0EyuBG9f"
      },
      "source": [
        "##Exploración de datos"
      ]
    },
    {
      "cell_type": "code",
      "metadata": {
        "colab": {
          "base_uri": "https://localhost:8080/"
        },
        "id": "uatZfpa4E6Pl",
        "outputId": "a816ea07-a4b7-4149-e9ab-ade0f0f63ae4"
      },
      "source": [
        "df.shape"
      ],
      "execution_count": 237,
      "outputs": [
        {
          "output_type": "execute_result",
          "data": {
            "text/plain": [
              "(25723, 24)"
            ]
          },
          "metadata": {
            "tags": []
          },
          "execution_count": 237
        }
      ]
    },
    {
      "cell_type": "code",
      "metadata": {
        "colab": {
          "base_uri": "https://localhost:8080/"
        },
        "id": "0CjxUucyX4_b",
        "outputId": "f6e7111c-5f94-49e9-dd28-175a504eb42d"
      },
      "source": [
        "df.info()"
      ],
      "execution_count": 238,
      "outputs": [
        {
          "output_type": "stream",
          "text": [
            "<class 'pandas.core.frame.DataFrame'>\n",
            "RangeIndex: 25723 entries, 0 to 25722\n",
            "Data columns (total 24 columns):\n",
            " #   Column                  Non-Null Count  Dtype  \n",
            "---  ------                  --------------  -----  \n",
            " 0   Case Number             8702 non-null   object \n",
            " 1   Date                    6302 non-null   object \n",
            " 2   Year                    6300 non-null   float64\n",
            " 3   Type                    6298 non-null   object \n",
            " 4   Country                 6252 non-null   object \n",
            " 5   Area                    5847 non-null   object \n",
            " 6   Location                5762 non-null   object \n",
            " 7   Activity                5758 non-null   object \n",
            " 8   Name                    6092 non-null   object \n",
            " 9   Sex                     5737 non-null   object \n",
            " 10  Age                     3471 non-null   object \n",
            " 11  Injury                  6274 non-null   object \n",
            " 12  Fatal (Y/N)             5763 non-null   object \n",
            " 13  Time                    2948 non-null   object \n",
            " 14  Species                 3464 non-null   object \n",
            " 15  Investigator or Source  6285 non-null   object \n",
            " 16  pdf                     6302 non-null   object \n",
            " 17  href formula            6301 non-null   object \n",
            " 18  href                    6302 non-null   object \n",
            " 19  Case Number.1           6302 non-null   object \n",
            " 20  Case Number.2           6302 non-null   object \n",
            " 21  original order          6309 non-null   float64\n",
            " 22  Unnamed: 22             1 non-null      object \n",
            " 23  Unnamed: 23             2 non-null      object \n",
            "dtypes: float64(2), object(22)\n",
            "memory usage: 4.7+ MB\n"
          ],
          "name": "stdout"
        }
      ]
    },
    {
      "cell_type": "markdown",
      "metadata": {
        "id": "DtUsEhz7FhgE"
      },
      "source": [
        "####Porcentaje de nulos"
      ]
    },
    {
      "cell_type": "code",
      "metadata": {
        "id": "jeh6wVGVXLQG",
        "colab": {
          "base_uri": "https://localhost:8080/"
        },
        "outputId": "8e543106-0036-432d-c4f4-b555032ae3ca"
      },
      "source": [
        "df.isnull().sum()/len(df)"
      ],
      "execution_count": 239,
      "outputs": [
        {
          "output_type": "execute_result",
          "data": {
            "text/plain": [
              "Case Number               0.661704\n",
              "Date                      0.755005\n",
              "Year                      0.755083\n",
              "Type                      0.755161\n",
              "Country                   0.756949\n",
              "Area                      0.772694\n",
              "Location                  0.775998\n",
              "Activity                  0.776154\n",
              "Name                      0.763169\n",
              "Sex                       0.776970\n",
              "Age                       0.865062\n",
              "Injury                    0.756094\n",
              "Fatal (Y/N)               0.775959\n",
              "Time                      0.885394\n",
              "Species                   0.865335\n",
              "Investigator or Source    0.755666\n",
              "pdf                       0.755005\n",
              "href formula              0.755044\n",
              "href                      0.755005\n",
              "Case Number.1             0.755005\n",
              "Case Number.2             0.755005\n",
              "original order            0.754733\n",
              "Unnamed: 22               0.999961\n",
              "Unnamed: 23               0.999922\n",
              "dtype: float64"
            ]
          },
          "metadata": {
            "tags": []
          },
          "execution_count": 239
        }
      ]
    },
    {
      "cell_type": "markdown",
      "metadata": {
        "id": "iFpt_JJ_vab_"
      },
      "source": [
        "Consideré que uno de los campos más importantes era el registro de caso, por lo que decidí asignarlo a una variable y ver el conenido de sus nulos contenido"
      ]
    },
    {
      "cell_type": "code",
      "metadata": {
        "colab": {
          "base_uri": "https://localhost:8080/",
          "height": 541
        },
        "id": "CVrxDlcpHMUK",
        "outputId": "d3f31230-0df6-48bc-b920-7f37de86ef68"
      },
      "source": [
        "is_null_casenumber = df[df['Case Number'].isnull() == True]\n",
        "is_null_casenumber"
      ],
      "execution_count": 240,
      "outputs": [
        {
          "output_type": "execute_result",
          "data": {
            "text/html": [
              "<div>\n",
              "<style scoped>\n",
              "    .dataframe tbody tr th:only-of-type {\n",
              "        vertical-align: middle;\n",
              "    }\n",
              "\n",
              "    .dataframe tbody tr th {\n",
              "        vertical-align: top;\n",
              "    }\n",
              "\n",
              "    .dataframe thead th {\n",
              "        text-align: right;\n",
              "    }\n",
              "</style>\n",
              "<table border=\"1\" class=\"dataframe\">\n",
              "  <thead>\n",
              "    <tr style=\"text-align: right;\">\n",
              "      <th></th>\n",
              "      <th>Case Number</th>\n",
              "      <th>Date</th>\n",
              "      <th>Year</th>\n",
              "      <th>Type</th>\n",
              "      <th>Country</th>\n",
              "      <th>Area</th>\n",
              "      <th>Location</th>\n",
              "      <th>Activity</th>\n",
              "      <th>Name</th>\n",
              "      <th>Sex</th>\n",
              "      <th>Age</th>\n",
              "      <th>Injury</th>\n",
              "      <th>Fatal (Y/N)</th>\n",
              "      <th>Time</th>\n",
              "      <th>Species</th>\n",
              "      <th>Investigator or Source</th>\n",
              "      <th>pdf</th>\n",
              "      <th>href formula</th>\n",
              "      <th>href</th>\n",
              "      <th>Case Number.1</th>\n",
              "      <th>Case Number.2</th>\n",
              "      <th>original order</th>\n",
              "      <th>Unnamed: 22</th>\n",
              "      <th>Unnamed: 23</th>\n",
              "    </tr>\n",
              "  </thead>\n",
              "  <tbody>\n",
              "    <tr>\n",
              "      <th>5488</th>\n",
              "      <td>NaN</td>\n",
              "      <td>Reported 06-Sep-1905</td>\n",
              "      <td>1905.0</td>\n",
              "      <td>Provoked</td>\n",
              "      <td>USA</td>\n",
              "      <td>Florida</td>\n",
              "      <td>Fort Pierce, St Lucie County</td>\n",
              "      <td>Fishing</td>\n",
              "      <td>David Curry</td>\n",
              "      <td>M</td>\n",
              "      <td>NaN</td>\n",
              "      <td>Lacerations to leg from hooked shark PROVOKED ...</td>\n",
              "      <td>N</td>\n",
              "      <td>NaN</td>\n",
              "      <td>NaN</td>\n",
              "      <td>Muncie Evening Press, 8/6/1913</td>\n",
              "      <td>1905.09.06.R-Curry.pdf</td>\n",
              "      <td>http://sharkattackfile.net/spreadsheets/pdf_di...</td>\n",
              "      <td>http://sharkattackfile.net/spreadsheets/pdf_di...</td>\n",
              "      <td>1905.09.06.R</td>\n",
              "      <td>1905.09.06.R</td>\n",
              "      <td>815.0</td>\n",
              "      <td>NaN</td>\n",
              "      <td>NaN</td>\n",
              "    </tr>\n",
              "    <tr>\n",
              "      <th>8702</th>\n",
              "      <td>NaN</td>\n",
              "      <td>NaN</td>\n",
              "      <td>NaN</td>\n",
              "      <td>NaN</td>\n",
              "      <td>NaN</td>\n",
              "      <td>NaN</td>\n",
              "      <td>NaN</td>\n",
              "      <td>NaN</td>\n",
              "      <td>NaN</td>\n",
              "      <td>NaN</td>\n",
              "      <td>NaN</td>\n",
              "      <td>NaN</td>\n",
              "      <td>NaN</td>\n",
              "      <td>NaN</td>\n",
              "      <td>NaN</td>\n",
              "      <td>NaN</td>\n",
              "      <td>NaN</td>\n",
              "      <td>NaN</td>\n",
              "      <td>NaN</td>\n",
              "      <td>NaN</td>\n",
              "      <td>NaN</td>\n",
              "      <td>NaN</td>\n",
              "      <td>NaN</td>\n",
              "      <td>NaN</td>\n",
              "    </tr>\n",
              "    <tr>\n",
              "      <th>8703</th>\n",
              "      <td>NaN</td>\n",
              "      <td>NaN</td>\n",
              "      <td>NaN</td>\n",
              "      <td>NaN</td>\n",
              "      <td>NaN</td>\n",
              "      <td>NaN</td>\n",
              "      <td>NaN</td>\n",
              "      <td>NaN</td>\n",
              "      <td>NaN</td>\n",
              "      <td>NaN</td>\n",
              "      <td>NaN</td>\n",
              "      <td>NaN</td>\n",
              "      <td>NaN</td>\n",
              "      <td>NaN</td>\n",
              "      <td>NaN</td>\n",
              "      <td>NaN</td>\n",
              "      <td>NaN</td>\n",
              "      <td>NaN</td>\n",
              "      <td>NaN</td>\n",
              "      <td>NaN</td>\n",
              "      <td>NaN</td>\n",
              "      <td>NaN</td>\n",
              "      <td>NaN</td>\n",
              "      <td>NaN</td>\n",
              "    </tr>\n",
              "    <tr>\n",
              "      <th>8704</th>\n",
              "      <td>NaN</td>\n",
              "      <td>NaN</td>\n",
              "      <td>NaN</td>\n",
              "      <td>NaN</td>\n",
              "      <td>NaN</td>\n",
              "      <td>NaN</td>\n",
              "      <td>NaN</td>\n",
              "      <td>NaN</td>\n",
              "      <td>NaN</td>\n",
              "      <td>NaN</td>\n",
              "      <td>NaN</td>\n",
              "      <td>NaN</td>\n",
              "      <td>NaN</td>\n",
              "      <td>NaN</td>\n",
              "      <td>NaN</td>\n",
              "      <td>NaN</td>\n",
              "      <td>NaN</td>\n",
              "      <td>NaN</td>\n",
              "      <td>NaN</td>\n",
              "      <td>NaN</td>\n",
              "      <td>NaN</td>\n",
              "      <td>NaN</td>\n",
              "      <td>NaN</td>\n",
              "      <td>NaN</td>\n",
              "    </tr>\n",
              "    <tr>\n",
              "      <th>8705</th>\n",
              "      <td>NaN</td>\n",
              "      <td>NaN</td>\n",
              "      <td>NaN</td>\n",
              "      <td>NaN</td>\n",
              "      <td>NaN</td>\n",
              "      <td>NaN</td>\n",
              "      <td>NaN</td>\n",
              "      <td>NaN</td>\n",
              "      <td>NaN</td>\n",
              "      <td>NaN</td>\n",
              "      <td>NaN</td>\n",
              "      <td>NaN</td>\n",
              "      <td>NaN</td>\n",
              "      <td>NaN</td>\n",
              "      <td>NaN</td>\n",
              "      <td>NaN</td>\n",
              "      <td>NaN</td>\n",
              "      <td>NaN</td>\n",
              "      <td>NaN</td>\n",
              "      <td>NaN</td>\n",
              "      <td>NaN</td>\n",
              "      <td>NaN</td>\n",
              "      <td>NaN</td>\n",
              "      <td>NaN</td>\n",
              "    </tr>\n",
              "    <tr>\n",
              "      <th>...</th>\n",
              "      <td>...</td>\n",
              "      <td>...</td>\n",
              "      <td>...</td>\n",
              "      <td>...</td>\n",
              "      <td>...</td>\n",
              "      <td>...</td>\n",
              "      <td>...</td>\n",
              "      <td>...</td>\n",
              "      <td>...</td>\n",
              "      <td>...</td>\n",
              "      <td>...</td>\n",
              "      <td>...</td>\n",
              "      <td>...</td>\n",
              "      <td>...</td>\n",
              "      <td>...</td>\n",
              "      <td>...</td>\n",
              "      <td>...</td>\n",
              "      <td>...</td>\n",
              "      <td>...</td>\n",
              "      <td>...</td>\n",
              "      <td>...</td>\n",
              "      <td>...</td>\n",
              "      <td>...</td>\n",
              "      <td>...</td>\n",
              "    </tr>\n",
              "    <tr>\n",
              "      <th>25717</th>\n",
              "      <td>NaN</td>\n",
              "      <td>NaN</td>\n",
              "      <td>NaN</td>\n",
              "      <td>NaN</td>\n",
              "      <td>NaN</td>\n",
              "      <td>NaN</td>\n",
              "      <td>NaN</td>\n",
              "      <td>NaN</td>\n",
              "      <td>NaN</td>\n",
              "      <td>NaN</td>\n",
              "      <td>NaN</td>\n",
              "      <td>NaN</td>\n",
              "      <td>NaN</td>\n",
              "      <td>NaN</td>\n",
              "      <td>NaN</td>\n",
              "      <td>NaN</td>\n",
              "      <td>NaN</td>\n",
              "      <td>NaN</td>\n",
              "      <td>NaN</td>\n",
              "      <td>NaN</td>\n",
              "      <td>NaN</td>\n",
              "      <td>NaN</td>\n",
              "      <td>NaN</td>\n",
              "      <td>NaN</td>\n",
              "    </tr>\n",
              "    <tr>\n",
              "      <th>25718</th>\n",
              "      <td>NaN</td>\n",
              "      <td>NaN</td>\n",
              "      <td>NaN</td>\n",
              "      <td>NaN</td>\n",
              "      <td>NaN</td>\n",
              "      <td>NaN</td>\n",
              "      <td>NaN</td>\n",
              "      <td>NaN</td>\n",
              "      <td>NaN</td>\n",
              "      <td>NaN</td>\n",
              "      <td>NaN</td>\n",
              "      <td>NaN</td>\n",
              "      <td>NaN</td>\n",
              "      <td>NaN</td>\n",
              "      <td>NaN</td>\n",
              "      <td>NaN</td>\n",
              "      <td>NaN</td>\n",
              "      <td>NaN</td>\n",
              "      <td>NaN</td>\n",
              "      <td>NaN</td>\n",
              "      <td>NaN</td>\n",
              "      <td>NaN</td>\n",
              "      <td>NaN</td>\n",
              "      <td>NaN</td>\n",
              "    </tr>\n",
              "    <tr>\n",
              "      <th>25719</th>\n",
              "      <td>NaN</td>\n",
              "      <td>NaN</td>\n",
              "      <td>NaN</td>\n",
              "      <td>NaN</td>\n",
              "      <td>NaN</td>\n",
              "      <td>NaN</td>\n",
              "      <td>NaN</td>\n",
              "      <td>NaN</td>\n",
              "      <td>NaN</td>\n",
              "      <td>NaN</td>\n",
              "      <td>NaN</td>\n",
              "      <td>NaN</td>\n",
              "      <td>NaN</td>\n",
              "      <td>NaN</td>\n",
              "      <td>NaN</td>\n",
              "      <td>NaN</td>\n",
              "      <td>NaN</td>\n",
              "      <td>NaN</td>\n",
              "      <td>NaN</td>\n",
              "      <td>NaN</td>\n",
              "      <td>NaN</td>\n",
              "      <td>NaN</td>\n",
              "      <td>NaN</td>\n",
              "      <td>NaN</td>\n",
              "    </tr>\n",
              "    <tr>\n",
              "      <th>25720</th>\n",
              "      <td>NaN</td>\n",
              "      <td>NaN</td>\n",
              "      <td>NaN</td>\n",
              "      <td>NaN</td>\n",
              "      <td>NaN</td>\n",
              "      <td>NaN</td>\n",
              "      <td>NaN</td>\n",
              "      <td>NaN</td>\n",
              "      <td>NaN</td>\n",
              "      <td>NaN</td>\n",
              "      <td>NaN</td>\n",
              "      <td>NaN</td>\n",
              "      <td>NaN</td>\n",
              "      <td>NaN</td>\n",
              "      <td>NaN</td>\n",
              "      <td>NaN</td>\n",
              "      <td>NaN</td>\n",
              "      <td>NaN</td>\n",
              "      <td>NaN</td>\n",
              "      <td>NaN</td>\n",
              "      <td>NaN</td>\n",
              "      <td>NaN</td>\n",
              "      <td>NaN</td>\n",
              "      <td>NaN</td>\n",
              "    </tr>\n",
              "    <tr>\n",
              "      <th>25721</th>\n",
              "      <td>NaN</td>\n",
              "      <td>NaN</td>\n",
              "      <td>NaN</td>\n",
              "      <td>NaN</td>\n",
              "      <td>NaN</td>\n",
              "      <td>NaN</td>\n",
              "      <td>NaN</td>\n",
              "      <td>NaN</td>\n",
              "      <td>NaN</td>\n",
              "      <td>NaN</td>\n",
              "      <td>NaN</td>\n",
              "      <td>NaN</td>\n",
              "      <td>NaN</td>\n",
              "      <td>NaN</td>\n",
              "      <td>NaN</td>\n",
              "      <td>NaN</td>\n",
              "      <td>NaN</td>\n",
              "      <td>NaN</td>\n",
              "      <td>NaN</td>\n",
              "      <td>NaN</td>\n",
              "      <td>NaN</td>\n",
              "      <td>NaN</td>\n",
              "      <td>NaN</td>\n",
              "      <td>NaN</td>\n",
              "    </tr>\n",
              "  </tbody>\n",
              "</table>\n",
              "<p>17021 rows × 24 columns</p>\n",
              "</div>"
            ],
            "text/plain": [
              "      Case Number                  Date  ...  Unnamed: 22 Unnamed: 23\n",
              "5488          NaN  Reported 06-Sep-1905  ...          NaN         NaN\n",
              "8702          NaN                   NaN  ...          NaN         NaN\n",
              "8703          NaN                   NaN  ...          NaN         NaN\n",
              "8704          NaN                   NaN  ...          NaN         NaN\n",
              "8705          NaN                   NaN  ...          NaN         NaN\n",
              "...           ...                   ...  ...          ...         ...\n",
              "25717         NaN                   NaN  ...          NaN         NaN\n",
              "25718         NaN                   NaN  ...          NaN         NaN\n",
              "25719         NaN                   NaN  ...          NaN         NaN\n",
              "25720         NaN                   NaN  ...          NaN         NaN\n",
              "25721         NaN                   NaN  ...          NaN         NaN\n",
              "\n",
              "[17021 rows x 24 columns]"
            ]
          },
          "metadata": {
            "tags": []
          },
          "execution_count": 240
        }
      ]
    },
    {
      "cell_type": "code",
      "metadata": {
        "colab": {
          "base_uri": "https://localhost:8080/"
        },
        "id": "eD3XbdZKJHwm",
        "outputId": "c7524918-e8f3-4291-d548-7defeabe0793"
      },
      "source": [
        "is_null_casenumber.info()"
      ],
      "execution_count": 241,
      "outputs": [
        {
          "output_type": "stream",
          "text": [
            "<class 'pandas.core.frame.DataFrame'>\n",
            "Int64Index: 17021 entries, 5488 to 25721\n",
            "Data columns (total 24 columns):\n",
            " #   Column                  Non-Null Count  Dtype  \n",
            "---  ------                  --------------  -----  \n",
            " 0   Case Number             0 non-null      object \n",
            " 1   Date                    1 non-null      object \n",
            " 2   Year                    1 non-null      float64\n",
            " 3   Type                    1 non-null      object \n",
            " 4   Country                 1 non-null      object \n",
            " 5   Area                    1 non-null      object \n",
            " 6   Location                1 non-null      object \n",
            " 7   Activity                1 non-null      object \n",
            " 8   Name                    1 non-null      object \n",
            " 9   Sex                     1 non-null      object \n",
            " 10  Age                     0 non-null      object \n",
            " 11  Injury                  1 non-null      object \n",
            " 12  Fatal (Y/N)             1 non-null      object \n",
            " 13  Time                    0 non-null      object \n",
            " 14  Species                 0 non-null      object \n",
            " 15  Investigator or Source  1 non-null      object \n",
            " 16  pdf                     1 non-null      object \n",
            " 17  href formula            1 non-null      object \n",
            " 18  href                    1 non-null      object \n",
            " 19  Case Number.1           1 non-null      object \n",
            " 20  Case Number.2           1 non-null      object \n",
            " 21  original order          1 non-null      float64\n",
            " 22  Unnamed: 22             0 non-null      object \n",
            " 23  Unnamed: 23             0 non-null      object \n",
            "dtypes: float64(2), object(22)\n",
            "memory usage: 3.2+ MB\n"
          ],
          "name": "stdout"
        }
      ]
    },
    {
      "cell_type": "code",
      "metadata": {
        "colab": {
          "base_uri": "https://localhost:8080/",
          "height": 202
        },
        "id": "EBTwD3-AJqD9",
        "outputId": "414fd665-2743-4da0-8c64-db300942223e"
      },
      "source": [
        "#Veo el único caso que no tiene todo nulo\n",
        "is_null_casenumber[is_null_casenumber['Date'].isnull() == False]"
      ],
      "execution_count": 242,
      "outputs": [
        {
          "output_type": "execute_result",
          "data": {
            "text/html": [
              "<div>\n",
              "<style scoped>\n",
              "    .dataframe tbody tr th:only-of-type {\n",
              "        vertical-align: middle;\n",
              "    }\n",
              "\n",
              "    .dataframe tbody tr th {\n",
              "        vertical-align: top;\n",
              "    }\n",
              "\n",
              "    .dataframe thead th {\n",
              "        text-align: right;\n",
              "    }\n",
              "</style>\n",
              "<table border=\"1\" class=\"dataframe\">\n",
              "  <thead>\n",
              "    <tr style=\"text-align: right;\">\n",
              "      <th></th>\n",
              "      <th>Case Number</th>\n",
              "      <th>Date</th>\n",
              "      <th>Year</th>\n",
              "      <th>Type</th>\n",
              "      <th>Country</th>\n",
              "      <th>Area</th>\n",
              "      <th>Location</th>\n",
              "      <th>Activity</th>\n",
              "      <th>Name</th>\n",
              "      <th>Sex</th>\n",
              "      <th>Age</th>\n",
              "      <th>Injury</th>\n",
              "      <th>Fatal (Y/N)</th>\n",
              "      <th>Time</th>\n",
              "      <th>Species</th>\n",
              "      <th>Investigator or Source</th>\n",
              "      <th>pdf</th>\n",
              "      <th>href formula</th>\n",
              "      <th>href</th>\n",
              "      <th>Case Number.1</th>\n",
              "      <th>Case Number.2</th>\n",
              "      <th>original order</th>\n",
              "      <th>Unnamed: 22</th>\n",
              "      <th>Unnamed: 23</th>\n",
              "    </tr>\n",
              "  </thead>\n",
              "  <tbody>\n",
              "    <tr>\n",
              "      <th>5488</th>\n",
              "      <td>NaN</td>\n",
              "      <td>Reported 06-Sep-1905</td>\n",
              "      <td>1905.0</td>\n",
              "      <td>Provoked</td>\n",
              "      <td>USA</td>\n",
              "      <td>Florida</td>\n",
              "      <td>Fort Pierce, St Lucie County</td>\n",
              "      <td>Fishing</td>\n",
              "      <td>David Curry</td>\n",
              "      <td>M</td>\n",
              "      <td>NaN</td>\n",
              "      <td>Lacerations to leg from hooked shark PROVOKED ...</td>\n",
              "      <td>N</td>\n",
              "      <td>NaN</td>\n",
              "      <td>NaN</td>\n",
              "      <td>Muncie Evening Press, 8/6/1913</td>\n",
              "      <td>1905.09.06.R-Curry.pdf</td>\n",
              "      <td>http://sharkattackfile.net/spreadsheets/pdf_di...</td>\n",
              "      <td>http://sharkattackfile.net/spreadsheets/pdf_di...</td>\n",
              "      <td>1905.09.06.R</td>\n",
              "      <td>1905.09.06.R</td>\n",
              "      <td>815.0</td>\n",
              "      <td>NaN</td>\n",
              "      <td>NaN</td>\n",
              "    </tr>\n",
              "  </tbody>\n",
              "</table>\n",
              "</div>"
            ],
            "text/plain": [
              "     Case Number                  Date  ...  Unnamed: 22 Unnamed: 23\n",
              "5488         NaN  Reported 06-Sep-1905  ...          NaN         NaN\n",
              "\n",
              "[1 rows x 24 columns]"
            ]
          },
          "metadata": {
            "tags": []
          },
          "execution_count": 242
        }
      ]
    },
    {
      "cell_type": "code",
      "metadata": {
        "colab": {
          "base_uri": "https://localhost:8080/",
          "height": 202
        },
        "id": "PyCSFy81KFq4",
        "outputId": "e77fc8c0-0c26-4314-dead-27836811ce04"
      },
      "source": [
        "#consulto el caso en el df general\n",
        "df[5488:5489]"
      ],
      "execution_count": 243,
      "outputs": [
        {
          "output_type": "execute_result",
          "data": {
            "text/html": [
              "<div>\n",
              "<style scoped>\n",
              "    .dataframe tbody tr th:only-of-type {\n",
              "        vertical-align: middle;\n",
              "    }\n",
              "\n",
              "    .dataframe tbody tr th {\n",
              "        vertical-align: top;\n",
              "    }\n",
              "\n",
              "    .dataframe thead th {\n",
              "        text-align: right;\n",
              "    }\n",
              "</style>\n",
              "<table border=\"1\" class=\"dataframe\">\n",
              "  <thead>\n",
              "    <tr style=\"text-align: right;\">\n",
              "      <th></th>\n",
              "      <th>Case Number</th>\n",
              "      <th>Date</th>\n",
              "      <th>Year</th>\n",
              "      <th>Type</th>\n",
              "      <th>Country</th>\n",
              "      <th>Area</th>\n",
              "      <th>Location</th>\n",
              "      <th>Activity</th>\n",
              "      <th>Name</th>\n",
              "      <th>Sex</th>\n",
              "      <th>Age</th>\n",
              "      <th>Injury</th>\n",
              "      <th>Fatal (Y/N)</th>\n",
              "      <th>Time</th>\n",
              "      <th>Species</th>\n",
              "      <th>Investigator or Source</th>\n",
              "      <th>pdf</th>\n",
              "      <th>href formula</th>\n",
              "      <th>href</th>\n",
              "      <th>Case Number.1</th>\n",
              "      <th>Case Number.2</th>\n",
              "      <th>original order</th>\n",
              "      <th>Unnamed: 22</th>\n",
              "      <th>Unnamed: 23</th>\n",
              "    </tr>\n",
              "  </thead>\n",
              "  <tbody>\n",
              "    <tr>\n",
              "      <th>5488</th>\n",
              "      <td>NaN</td>\n",
              "      <td>Reported 06-Sep-1905</td>\n",
              "      <td>1905.0</td>\n",
              "      <td>Provoked</td>\n",
              "      <td>USA</td>\n",
              "      <td>Florida</td>\n",
              "      <td>Fort Pierce, St Lucie County</td>\n",
              "      <td>Fishing</td>\n",
              "      <td>David Curry</td>\n",
              "      <td>M</td>\n",
              "      <td>NaN</td>\n",
              "      <td>Lacerations to leg from hooked shark PROVOKED ...</td>\n",
              "      <td>N</td>\n",
              "      <td>NaN</td>\n",
              "      <td>NaN</td>\n",
              "      <td>Muncie Evening Press, 8/6/1913</td>\n",
              "      <td>1905.09.06.R-Curry.pdf</td>\n",
              "      <td>http://sharkattackfile.net/spreadsheets/pdf_di...</td>\n",
              "      <td>http://sharkattackfile.net/spreadsheets/pdf_di...</td>\n",
              "      <td>1905.09.06.R</td>\n",
              "      <td>1905.09.06.R</td>\n",
              "      <td>815.0</td>\n",
              "      <td>NaN</td>\n",
              "      <td>NaN</td>\n",
              "    </tr>\n",
              "  </tbody>\n",
              "</table>\n",
              "</div>"
            ],
            "text/plain": [
              "     Case Number                  Date  ...  Unnamed: 22 Unnamed: 23\n",
              "5488         NaN  Reported 06-Sep-1905  ...          NaN         NaN\n",
              "\n",
              "[1 rows x 24 columns]"
            ]
          },
          "metadata": {
            "tags": []
          },
          "execution_count": 243
        }
      ]
    },
    {
      "cell_type": "code",
      "metadata": {
        "colab": {
          "base_uri": "https://localhost:8080/",
          "height": 202
        },
        "id": "CJ0s_Ij2coLq",
        "outputId": "f8ee7ddf-a4ff-4e09-d203-0b1f966285ea"
      },
      "source": [
        "#cambio ese dato a 0 en el df original para no eliminarlo\n",
        "df.at[5488,'Case Number']=00000\n",
        "df[5488:5489]"
      ],
      "execution_count": 244,
      "outputs": [
        {
          "output_type": "execute_result",
          "data": {
            "text/html": [
              "<div>\n",
              "<style scoped>\n",
              "    .dataframe tbody tr th:only-of-type {\n",
              "        vertical-align: middle;\n",
              "    }\n",
              "\n",
              "    .dataframe tbody tr th {\n",
              "        vertical-align: top;\n",
              "    }\n",
              "\n",
              "    .dataframe thead th {\n",
              "        text-align: right;\n",
              "    }\n",
              "</style>\n",
              "<table border=\"1\" class=\"dataframe\">\n",
              "  <thead>\n",
              "    <tr style=\"text-align: right;\">\n",
              "      <th></th>\n",
              "      <th>Case Number</th>\n",
              "      <th>Date</th>\n",
              "      <th>Year</th>\n",
              "      <th>Type</th>\n",
              "      <th>Country</th>\n",
              "      <th>Area</th>\n",
              "      <th>Location</th>\n",
              "      <th>Activity</th>\n",
              "      <th>Name</th>\n",
              "      <th>Sex</th>\n",
              "      <th>Age</th>\n",
              "      <th>Injury</th>\n",
              "      <th>Fatal (Y/N)</th>\n",
              "      <th>Time</th>\n",
              "      <th>Species</th>\n",
              "      <th>Investigator or Source</th>\n",
              "      <th>pdf</th>\n",
              "      <th>href formula</th>\n",
              "      <th>href</th>\n",
              "      <th>Case Number.1</th>\n",
              "      <th>Case Number.2</th>\n",
              "      <th>original order</th>\n",
              "      <th>Unnamed: 22</th>\n",
              "      <th>Unnamed: 23</th>\n",
              "    </tr>\n",
              "  </thead>\n",
              "  <tbody>\n",
              "    <tr>\n",
              "      <th>5488</th>\n",
              "      <td>0</td>\n",
              "      <td>Reported 06-Sep-1905</td>\n",
              "      <td>1905.0</td>\n",
              "      <td>Provoked</td>\n",
              "      <td>USA</td>\n",
              "      <td>Florida</td>\n",
              "      <td>Fort Pierce, St Lucie County</td>\n",
              "      <td>Fishing</td>\n",
              "      <td>David Curry</td>\n",
              "      <td>M</td>\n",
              "      <td>NaN</td>\n",
              "      <td>Lacerations to leg from hooked shark PROVOKED ...</td>\n",
              "      <td>N</td>\n",
              "      <td>NaN</td>\n",
              "      <td>NaN</td>\n",
              "      <td>Muncie Evening Press, 8/6/1913</td>\n",
              "      <td>1905.09.06.R-Curry.pdf</td>\n",
              "      <td>http://sharkattackfile.net/spreadsheets/pdf_di...</td>\n",
              "      <td>http://sharkattackfile.net/spreadsheets/pdf_di...</td>\n",
              "      <td>1905.09.06.R</td>\n",
              "      <td>1905.09.06.R</td>\n",
              "      <td>815.0</td>\n",
              "      <td>NaN</td>\n",
              "      <td>NaN</td>\n",
              "    </tr>\n",
              "  </tbody>\n",
              "</table>\n",
              "</div>"
            ],
            "text/plain": [
              "     Case Number                  Date  ...  Unnamed: 22 Unnamed: 23\n",
              "5488           0  Reported 06-Sep-1905  ...          NaN         NaN\n",
              "\n",
              "[1 rows x 24 columns]"
            ]
          },
          "metadata": {
            "tags": []
          },
          "execution_count": 244
        }
      ]
    },
    {
      "cell_type": "code",
      "metadata": {
        "id": "4EYcHdIdEc5w"
      },
      "source": [
        "#Quito los Case Number nulos del original y compruebo nuevo tamaño\n",
        "df = df.drop(df[df['Case Number'].isnull()==True].index,axis = 0)\n"
      ],
      "execution_count": 245,
      "outputs": []
    },
    {
      "cell_type": "code",
      "metadata": {
        "colab": {
          "base_uri": "https://localhost:8080/"
        },
        "id": "ip6B10nvvo3N",
        "outputId": "69e7a34e-e1c4-479b-e6ff-b22691df58e0"
      },
      "source": [
        "df.shape\n"
      ],
      "execution_count": 246,
      "outputs": [
        {
          "output_type": "execute_result",
          "data": {
            "text/plain": [
              "(8703, 24)"
            ]
          },
          "metadata": {
            "tags": []
          },
          "execution_count": 246
        }
      ]
    },
    {
      "cell_type": "code",
      "metadata": {
        "colab": {
          "base_uri": "https://localhost:8080/"
        },
        "id": "Xd3Xjrun16kR",
        "outputId": "67bebfb0-e782-43af-9538-652c8b16a7fb"
      },
      "source": [
        "df.info()"
      ],
      "execution_count": 247,
      "outputs": [
        {
          "output_type": "stream",
          "text": [
            "<class 'pandas.core.frame.DataFrame'>\n",
            "Int64Index: 8703 entries, 0 to 25722\n",
            "Data columns (total 24 columns):\n",
            " #   Column                  Non-Null Count  Dtype  \n",
            "---  ------                  --------------  -----  \n",
            " 0   Case Number             8703 non-null   object \n",
            " 1   Date                    6302 non-null   object \n",
            " 2   Year                    6300 non-null   float64\n",
            " 3   Type                    6298 non-null   object \n",
            " 4   Country                 6252 non-null   object \n",
            " 5   Area                    5847 non-null   object \n",
            " 6   Location                5762 non-null   object \n",
            " 7   Activity                5758 non-null   object \n",
            " 8   Name                    6092 non-null   object \n",
            " 9   Sex                     5737 non-null   object \n",
            " 10  Age                     3471 non-null   object \n",
            " 11  Injury                  6274 non-null   object \n",
            " 12  Fatal (Y/N)             5763 non-null   object \n",
            " 13  Time                    2948 non-null   object \n",
            " 14  Species                 3464 non-null   object \n",
            " 15  Investigator or Source  6285 non-null   object \n",
            " 16  pdf                     6302 non-null   object \n",
            " 17  href formula            6301 non-null   object \n",
            " 18  href                    6302 non-null   object \n",
            " 19  Case Number.1           6302 non-null   object \n",
            " 20  Case Number.2           6302 non-null   object \n",
            " 21  original order          6309 non-null   float64\n",
            " 22  Unnamed: 22             1 non-null      object \n",
            " 23  Unnamed: 23             2 non-null      object \n",
            "dtypes: float64(2), object(22)\n",
            "memory usage: 1.7+ MB\n"
          ],
          "name": "stdout"
        }
      ]
    },
    {
      "cell_type": "markdown",
      "metadata": {
        "id": "eChSVcZOKo2u"
      },
      "source": [
        "Porcentaje de datos en Case Number.1 y .2 que están en Case Number y cantidad de datos nulos"
      ]
    },
    {
      "cell_type": "code",
      "metadata": {
        "colab": {
          "base_uri": "https://localhost:8080/"
        },
        "id": "N3ClvtFPKkaV",
        "outputId": "6aa7cab4-e465-4bae-da37-e026406ac8f2"
      },
      "source": [
        "print(df['Case Number'].isin(df['Case Number.1']).value_counts()/len(df))\n",
        "print(df['Case Number'].isin(df['Case Number.1']).value_counts())\n"
      ],
      "execution_count": 248,
      "outputs": [
        {
          "output_type": "stream",
          "text": [
            "True     0.72136\n",
            "False    0.27864\n",
            "Name: Case Number, dtype: float64\n",
            "True     6278\n",
            "False    2425\n",
            "Name: Case Number, dtype: int64\n"
          ],
          "name": "stdout"
        }
      ]
    },
    {
      "cell_type": "code",
      "metadata": {
        "colab": {
          "base_uri": "https://localhost:8080/"
        },
        "id": "v_uSx3oUKnOf",
        "outputId": "c6c1fe41-504e-4e36-810e-fd783e563f45"
      },
      "source": [
        "print(df['Case Number'].isin(df['Case Number.2']).value_counts()/len(df))\n",
        "print(df['Case Number'].isin(df['Case Number.2']).value_counts())"
      ],
      "execution_count": 249,
      "outputs": [
        {
          "output_type": "stream",
          "text": [
            "True     0.723659\n",
            "False    0.276341\n",
            "Name: Case Number, dtype: float64\n",
            "True     6298\n",
            "False    2405\n",
            "Name: Case Number, dtype: int64\n"
          ],
          "name": "stdout"
        }
      ]
    },
    {
      "cell_type": "code",
      "metadata": {
        "colab": {
          "base_uri": "https://localhost:8080/"
        },
        "id": "xh3Q0xaFLlt5",
        "outputId": "e15199f6-d262-463d-a0ad-2e99a7ec1c01"
      },
      "source": [
        "df [['Case Number', 'Case Number.2', 'Case Number.1']].isnull().sum()\n"
      ],
      "execution_count": 250,
      "outputs": [
        {
          "output_type": "execute_result",
          "data": {
            "text/plain": [
              "Case Number         0\n",
              "Case Number.2    2401\n",
              "Case Number.1    2401\n",
              "dtype: int64"
            ]
          },
          "metadata": {
            "tags": []
          },
          "execution_count": 250
        }
      ]
    },
    {
      "cell_type": "code",
      "metadata": {
        "colab": {
          "base_uri": "https://localhost:8080/"
        },
        "id": "gFMxNQWVj8an",
        "outputId": "cef6f0b7-5c91-4c17-91e7-d2021ab78784"
      },
      "source": [
        "type(df) "
      ],
      "execution_count": 251,
      "outputs": [
        {
          "output_type": "execute_result",
          "data": {
            "text/plain": [
              "pandas.core.frame.DataFrame"
            ]
          },
          "metadata": {
            "tags": []
          },
          "execution_count": 251
        }
      ]
    },
    {
      "cell_type": "code",
      "metadata": {
        "id": "Ymk7lseOSerC"
      },
      "source": [
        "df = df.drop([\"Case Number.1\",\"Case Number.2\"], axis=1)"
      ],
      "execution_count": 252,
      "outputs": []
    },
    {
      "cell_type": "code",
      "metadata": {
        "id": "QLcgSmdrn7jW",
        "colab": {
          "base_uri": "https://localhost:8080/",
          "height": 400
        },
        "outputId": "789c345a-fff4-4c56-b62b-7138af9b8c2d"
      },
      "source": [
        "df.head(3)"
      ],
      "execution_count": 253,
      "outputs": [
        {
          "output_type": "execute_result",
          "data": {
            "text/html": [
              "<div>\n",
              "<style scoped>\n",
              "    .dataframe tbody tr th:only-of-type {\n",
              "        vertical-align: middle;\n",
              "    }\n",
              "\n",
              "    .dataframe tbody tr th {\n",
              "        vertical-align: top;\n",
              "    }\n",
              "\n",
              "    .dataframe thead th {\n",
              "        text-align: right;\n",
              "    }\n",
              "</style>\n",
              "<table border=\"1\" class=\"dataframe\">\n",
              "  <thead>\n",
              "    <tr style=\"text-align: right;\">\n",
              "      <th></th>\n",
              "      <th>Case Number</th>\n",
              "      <th>Date</th>\n",
              "      <th>Year</th>\n",
              "      <th>Type</th>\n",
              "      <th>Country</th>\n",
              "      <th>Area</th>\n",
              "      <th>Location</th>\n",
              "      <th>Activity</th>\n",
              "      <th>Name</th>\n",
              "      <th>Sex</th>\n",
              "      <th>Age</th>\n",
              "      <th>Injury</th>\n",
              "      <th>Fatal (Y/N)</th>\n",
              "      <th>Time</th>\n",
              "      <th>Species</th>\n",
              "      <th>Investigator or Source</th>\n",
              "      <th>pdf</th>\n",
              "      <th>href formula</th>\n",
              "      <th>href</th>\n",
              "      <th>original order</th>\n",
              "      <th>Unnamed: 22</th>\n",
              "      <th>Unnamed: 23</th>\n",
              "    </tr>\n",
              "  </thead>\n",
              "  <tbody>\n",
              "    <tr>\n",
              "      <th>0</th>\n",
              "      <td>2018.06.25</td>\n",
              "      <td>25-Jun-2018</td>\n",
              "      <td>2018.0</td>\n",
              "      <td>Boating</td>\n",
              "      <td>USA</td>\n",
              "      <td>California</td>\n",
              "      <td>Oceanside, San Diego County</td>\n",
              "      <td>Paddling</td>\n",
              "      <td>Julie Wolfe</td>\n",
              "      <td>F</td>\n",
              "      <td>57</td>\n",
              "      <td>No injury to occupant, outrigger canoe and pad...</td>\n",
              "      <td>N</td>\n",
              "      <td>18h00</td>\n",
              "      <td>White shark</td>\n",
              "      <td>R. Collier, GSAF</td>\n",
              "      <td>2018.06.25-Wolfe.pdf</td>\n",
              "      <td>http://sharkattackfile.net/spreadsheets/pdf_di...</td>\n",
              "      <td>http://sharkattackfile.net/spreadsheets/pdf_di...</td>\n",
              "      <td>6303.0</td>\n",
              "      <td>NaN</td>\n",
              "      <td>NaN</td>\n",
              "    </tr>\n",
              "    <tr>\n",
              "      <th>1</th>\n",
              "      <td>2018.06.18</td>\n",
              "      <td>18-Jun-2018</td>\n",
              "      <td>2018.0</td>\n",
              "      <td>Unprovoked</td>\n",
              "      <td>USA</td>\n",
              "      <td>Georgia</td>\n",
              "      <td>St. Simon Island, Glynn County</td>\n",
              "      <td>Standing</td>\n",
              "      <td>Adyson McNeely</td>\n",
              "      <td>F</td>\n",
              "      <td>11</td>\n",
              "      <td>Minor injury to left thigh</td>\n",
              "      <td>N</td>\n",
              "      <td>14h00  -15h00</td>\n",
              "      <td>NaN</td>\n",
              "      <td>K.McMurray, TrackingSharks.com</td>\n",
              "      <td>2018.06.18-McNeely.pdf</td>\n",
              "      <td>http://sharkattackfile.net/spreadsheets/pdf_di...</td>\n",
              "      <td>http://sharkattackfile.net/spreadsheets/pdf_di...</td>\n",
              "      <td>6302.0</td>\n",
              "      <td>NaN</td>\n",
              "      <td>NaN</td>\n",
              "    </tr>\n",
              "    <tr>\n",
              "      <th>2</th>\n",
              "      <td>2018.06.09</td>\n",
              "      <td>09-Jun-2018</td>\n",
              "      <td>2018.0</td>\n",
              "      <td>Invalid</td>\n",
              "      <td>USA</td>\n",
              "      <td>Hawaii</td>\n",
              "      <td>Habush, Oahu</td>\n",
              "      <td>Surfing</td>\n",
              "      <td>John Denges</td>\n",
              "      <td>M</td>\n",
              "      <td>48</td>\n",
              "      <td>Injury to left lower leg from surfboard skeg</td>\n",
              "      <td>N</td>\n",
              "      <td>07h45</td>\n",
              "      <td>NaN</td>\n",
              "      <td>K.McMurray, TrackingSharks.com</td>\n",
              "      <td>2018.06.09-Denges.pdf</td>\n",
              "      <td>http://sharkattackfile.net/spreadsheets/pdf_di...</td>\n",
              "      <td>http://sharkattackfile.net/spreadsheets/pdf_di...</td>\n",
              "      <td>6301.0</td>\n",
              "      <td>NaN</td>\n",
              "      <td>NaN</td>\n",
              "    </tr>\n",
              "  </tbody>\n",
              "</table>\n",
              "</div>"
            ],
            "text/plain": [
              "  Case Number         Date    Year  ... original order Unnamed: 22 Unnamed: 23\n",
              "0  2018.06.25  25-Jun-2018  2018.0  ...         6303.0         NaN         NaN\n",
              "1  2018.06.18  18-Jun-2018  2018.0  ...         6302.0         NaN         NaN\n",
              "2  2018.06.09  09-Jun-2018  2018.0  ...         6301.0         NaN         NaN\n",
              "\n",
              "[3 rows x 22 columns]"
            ]
          },
          "metadata": {
            "tags": []
          },
          "execution_count": 253
        }
      ]
    },
    {
      "cell_type": "code",
      "metadata": {
        "colab": {
          "base_uri": "https://localhost:8080/"
        },
        "id": "04WRvO4EnT3_",
        "outputId": "d4b7d1da-5c57-42b3-a038-b39fe4118734"
      },
      "source": [
        "df.info()"
      ],
      "execution_count": 254,
      "outputs": [
        {
          "output_type": "stream",
          "text": [
            "<class 'pandas.core.frame.DataFrame'>\n",
            "Int64Index: 8703 entries, 0 to 25722\n",
            "Data columns (total 22 columns):\n",
            " #   Column                  Non-Null Count  Dtype  \n",
            "---  ------                  --------------  -----  \n",
            " 0   Case Number             8703 non-null   object \n",
            " 1   Date                    6302 non-null   object \n",
            " 2   Year                    6300 non-null   float64\n",
            " 3   Type                    6298 non-null   object \n",
            " 4   Country                 6252 non-null   object \n",
            " 5   Area                    5847 non-null   object \n",
            " 6   Location                5762 non-null   object \n",
            " 7   Activity                5758 non-null   object \n",
            " 8   Name                    6092 non-null   object \n",
            " 9   Sex                     5737 non-null   object \n",
            " 10  Age                     3471 non-null   object \n",
            " 11  Injury                  6274 non-null   object \n",
            " 12  Fatal (Y/N)             5763 non-null   object \n",
            " 13  Time                    2948 non-null   object \n",
            " 14  Species                 3464 non-null   object \n",
            " 15  Investigator or Source  6285 non-null   object \n",
            " 16  pdf                     6302 non-null   object \n",
            " 17  href formula            6301 non-null   object \n",
            " 18  href                    6302 non-null   object \n",
            " 19  original order          6309 non-null   float64\n",
            " 20  Unnamed: 22             1 non-null      object \n",
            " 21  Unnamed: 23             2 non-null      object \n",
            "dtypes: float64(2), object(20)\n",
            "memory usage: 1.5+ MB\n"
          ],
          "name": "stdout"
        }
      ]
    },
    {
      "cell_type": "code",
      "metadata": {
        "colab": {
          "base_uri": "https://localhost:8080/"
        },
        "id": "TLL34CSjnWUy",
        "outputId": "21581f91-a00e-41e6-e5fd-6029f37c2983"
      },
      "source": [
        "#Veo si href está contenido en href formula y lo elimino si el porcentaje de no contenidos es muy bajo\n",
        "print(df['href formula'].isin(df['href']).value_counts()/len(df))"
      ],
      "execution_count": 255,
      "outputs": [
        {
          "output_type": "stream",
          "text": [
            "True     0.993221\n",
            "False    0.006779\n",
            "Name: href formula, dtype: float64\n"
          ],
          "name": "stdout"
        }
      ]
    },
    {
      "cell_type": "code",
      "metadata": {
        "id": "oj8b0E8goZ5Q"
      },
      "source": [
        "df = df.drop(['href formula'], axis =1)"
      ],
      "execution_count": 256,
      "outputs": []
    },
    {
      "cell_type": "code",
      "metadata": {
        "colab": {
          "base_uri": "https://localhost:8080/",
          "height": 456
        },
        "id": "md0dZ2nqo7g0",
        "outputId": "782f5421-d740-4744-abfc-035306d518b9"
      },
      "source": [
        "#df.info()\n",
        "df[df['original order'].isnull()==True]"
      ],
      "execution_count": 257,
      "outputs": [
        {
          "output_type": "execute_result",
          "data": {
            "text/html": [
              "<div>\n",
              "<style scoped>\n",
              "    .dataframe tbody tr th:only-of-type {\n",
              "        vertical-align: middle;\n",
              "    }\n",
              "\n",
              "    .dataframe tbody tr th {\n",
              "        vertical-align: top;\n",
              "    }\n",
              "\n",
              "    .dataframe thead th {\n",
              "        text-align: right;\n",
              "    }\n",
              "</style>\n",
              "<table border=\"1\" class=\"dataframe\">\n",
              "  <thead>\n",
              "    <tr style=\"text-align: right;\">\n",
              "      <th></th>\n",
              "      <th>Case Number</th>\n",
              "      <th>Date</th>\n",
              "      <th>Year</th>\n",
              "      <th>Type</th>\n",
              "      <th>Country</th>\n",
              "      <th>Area</th>\n",
              "      <th>Location</th>\n",
              "      <th>Activity</th>\n",
              "      <th>Name</th>\n",
              "      <th>Sex</th>\n",
              "      <th>Age</th>\n",
              "      <th>Injury</th>\n",
              "      <th>Fatal (Y/N)</th>\n",
              "      <th>Time</th>\n",
              "      <th>Species</th>\n",
              "      <th>Investigator or Source</th>\n",
              "      <th>pdf</th>\n",
              "      <th>href</th>\n",
              "      <th>original order</th>\n",
              "      <th>Unnamed: 22</th>\n",
              "      <th>Unnamed: 23</th>\n",
              "    </tr>\n",
              "  </thead>\n",
              "  <tbody>\n",
              "    <tr>\n",
              "      <th>6309</th>\n",
              "      <td>0</td>\n",
              "      <td>NaN</td>\n",
              "      <td>NaN</td>\n",
              "      <td>NaN</td>\n",
              "      <td>NaN</td>\n",
              "      <td>NaN</td>\n",
              "      <td>NaN</td>\n",
              "      <td>NaN</td>\n",
              "      <td>NaN</td>\n",
              "      <td>NaN</td>\n",
              "      <td>NaN</td>\n",
              "      <td>NaN</td>\n",
              "      <td>NaN</td>\n",
              "      <td>NaN</td>\n",
              "      <td>NaN</td>\n",
              "      <td>NaN</td>\n",
              "      <td>NaN</td>\n",
              "      <td>NaN</td>\n",
              "      <td>NaN</td>\n",
              "      <td>NaN</td>\n",
              "      <td>NaN</td>\n",
              "    </tr>\n",
              "    <tr>\n",
              "      <th>6310</th>\n",
              "      <td>0</td>\n",
              "      <td>NaN</td>\n",
              "      <td>NaN</td>\n",
              "      <td>NaN</td>\n",
              "      <td>NaN</td>\n",
              "      <td>NaN</td>\n",
              "      <td>NaN</td>\n",
              "      <td>NaN</td>\n",
              "      <td>NaN</td>\n",
              "      <td>NaN</td>\n",
              "      <td>NaN</td>\n",
              "      <td>NaN</td>\n",
              "      <td>NaN</td>\n",
              "      <td>NaN</td>\n",
              "      <td>NaN</td>\n",
              "      <td>NaN</td>\n",
              "      <td>NaN</td>\n",
              "      <td>NaN</td>\n",
              "      <td>NaN</td>\n",
              "      <td>NaN</td>\n",
              "      <td>NaN</td>\n",
              "    </tr>\n",
              "    <tr>\n",
              "      <th>6311</th>\n",
              "      <td>0</td>\n",
              "      <td>NaN</td>\n",
              "      <td>NaN</td>\n",
              "      <td>NaN</td>\n",
              "      <td>NaN</td>\n",
              "      <td>NaN</td>\n",
              "      <td>NaN</td>\n",
              "      <td>NaN</td>\n",
              "      <td>NaN</td>\n",
              "      <td>NaN</td>\n",
              "      <td>NaN</td>\n",
              "      <td>NaN</td>\n",
              "      <td>NaN</td>\n",
              "      <td>NaN</td>\n",
              "      <td>NaN</td>\n",
              "      <td>NaN</td>\n",
              "      <td>NaN</td>\n",
              "      <td>NaN</td>\n",
              "      <td>NaN</td>\n",
              "      <td>NaN</td>\n",
              "      <td>NaN</td>\n",
              "    </tr>\n",
              "    <tr>\n",
              "      <th>6312</th>\n",
              "      <td>0</td>\n",
              "      <td>NaN</td>\n",
              "      <td>NaN</td>\n",
              "      <td>NaN</td>\n",
              "      <td>NaN</td>\n",
              "      <td>NaN</td>\n",
              "      <td>NaN</td>\n",
              "      <td>NaN</td>\n",
              "      <td>NaN</td>\n",
              "      <td>NaN</td>\n",
              "      <td>NaN</td>\n",
              "      <td>NaN</td>\n",
              "      <td>NaN</td>\n",
              "      <td>NaN</td>\n",
              "      <td>NaN</td>\n",
              "      <td>NaN</td>\n",
              "      <td>NaN</td>\n",
              "      <td>NaN</td>\n",
              "      <td>NaN</td>\n",
              "      <td>NaN</td>\n",
              "      <td>NaN</td>\n",
              "    </tr>\n",
              "    <tr>\n",
              "      <th>6313</th>\n",
              "      <td>0</td>\n",
              "      <td>NaN</td>\n",
              "      <td>NaN</td>\n",
              "      <td>NaN</td>\n",
              "      <td>NaN</td>\n",
              "      <td>NaN</td>\n",
              "      <td>NaN</td>\n",
              "      <td>NaN</td>\n",
              "      <td>NaN</td>\n",
              "      <td>NaN</td>\n",
              "      <td>NaN</td>\n",
              "      <td>NaN</td>\n",
              "      <td>NaN</td>\n",
              "      <td>NaN</td>\n",
              "      <td>NaN</td>\n",
              "      <td>NaN</td>\n",
              "      <td>NaN</td>\n",
              "      <td>NaN</td>\n",
              "      <td>NaN</td>\n",
              "      <td>NaN</td>\n",
              "      <td>NaN</td>\n",
              "    </tr>\n",
              "    <tr>\n",
              "      <th>...</th>\n",
              "      <td>...</td>\n",
              "      <td>...</td>\n",
              "      <td>...</td>\n",
              "      <td>...</td>\n",
              "      <td>...</td>\n",
              "      <td>...</td>\n",
              "      <td>...</td>\n",
              "      <td>...</td>\n",
              "      <td>...</td>\n",
              "      <td>...</td>\n",
              "      <td>...</td>\n",
              "      <td>...</td>\n",
              "      <td>...</td>\n",
              "      <td>...</td>\n",
              "      <td>...</td>\n",
              "      <td>...</td>\n",
              "      <td>...</td>\n",
              "      <td>...</td>\n",
              "      <td>...</td>\n",
              "      <td>...</td>\n",
              "      <td>...</td>\n",
              "    </tr>\n",
              "    <tr>\n",
              "      <th>8698</th>\n",
              "      <td>0</td>\n",
              "      <td>NaN</td>\n",
              "      <td>NaN</td>\n",
              "      <td>NaN</td>\n",
              "      <td>NaN</td>\n",
              "      <td>NaN</td>\n",
              "      <td>NaN</td>\n",
              "      <td>NaN</td>\n",
              "      <td>NaN</td>\n",
              "      <td>NaN</td>\n",
              "      <td>NaN</td>\n",
              "      <td>NaN</td>\n",
              "      <td>NaN</td>\n",
              "      <td>NaN</td>\n",
              "      <td>NaN</td>\n",
              "      <td>NaN</td>\n",
              "      <td>NaN</td>\n",
              "      <td>NaN</td>\n",
              "      <td>NaN</td>\n",
              "      <td>NaN</td>\n",
              "      <td>NaN</td>\n",
              "    </tr>\n",
              "    <tr>\n",
              "      <th>8699</th>\n",
              "      <td>0</td>\n",
              "      <td>NaN</td>\n",
              "      <td>NaN</td>\n",
              "      <td>NaN</td>\n",
              "      <td>NaN</td>\n",
              "      <td>NaN</td>\n",
              "      <td>NaN</td>\n",
              "      <td>NaN</td>\n",
              "      <td>NaN</td>\n",
              "      <td>NaN</td>\n",
              "      <td>NaN</td>\n",
              "      <td>NaN</td>\n",
              "      <td>NaN</td>\n",
              "      <td>NaN</td>\n",
              "      <td>NaN</td>\n",
              "      <td>NaN</td>\n",
              "      <td>NaN</td>\n",
              "      <td>NaN</td>\n",
              "      <td>NaN</td>\n",
              "      <td>NaN</td>\n",
              "      <td>NaN</td>\n",
              "    </tr>\n",
              "    <tr>\n",
              "      <th>8700</th>\n",
              "      <td>0</td>\n",
              "      <td>NaN</td>\n",
              "      <td>NaN</td>\n",
              "      <td>NaN</td>\n",
              "      <td>NaN</td>\n",
              "      <td>NaN</td>\n",
              "      <td>NaN</td>\n",
              "      <td>NaN</td>\n",
              "      <td>NaN</td>\n",
              "      <td>NaN</td>\n",
              "      <td>NaN</td>\n",
              "      <td>NaN</td>\n",
              "      <td>NaN</td>\n",
              "      <td>NaN</td>\n",
              "      <td>NaN</td>\n",
              "      <td>NaN</td>\n",
              "      <td>NaN</td>\n",
              "      <td>NaN</td>\n",
              "      <td>NaN</td>\n",
              "      <td>NaN</td>\n",
              "      <td>NaN</td>\n",
              "    </tr>\n",
              "    <tr>\n",
              "      <th>8701</th>\n",
              "      <td>0</td>\n",
              "      <td>NaN</td>\n",
              "      <td>NaN</td>\n",
              "      <td>NaN</td>\n",
              "      <td>NaN</td>\n",
              "      <td>NaN</td>\n",
              "      <td>NaN</td>\n",
              "      <td>NaN</td>\n",
              "      <td>NaN</td>\n",
              "      <td>NaN</td>\n",
              "      <td>NaN</td>\n",
              "      <td>NaN</td>\n",
              "      <td>NaN</td>\n",
              "      <td>NaN</td>\n",
              "      <td>NaN</td>\n",
              "      <td>NaN</td>\n",
              "      <td>NaN</td>\n",
              "      <td>NaN</td>\n",
              "      <td>NaN</td>\n",
              "      <td>NaN</td>\n",
              "      <td>NaN</td>\n",
              "    </tr>\n",
              "    <tr>\n",
              "      <th>25722</th>\n",
              "      <td>xx</td>\n",
              "      <td>NaN</td>\n",
              "      <td>NaN</td>\n",
              "      <td>NaN</td>\n",
              "      <td>NaN</td>\n",
              "      <td>NaN</td>\n",
              "      <td>NaN</td>\n",
              "      <td>NaN</td>\n",
              "      <td>NaN</td>\n",
              "      <td>NaN</td>\n",
              "      <td>NaN</td>\n",
              "      <td>NaN</td>\n",
              "      <td>NaN</td>\n",
              "      <td>NaN</td>\n",
              "      <td>NaN</td>\n",
              "      <td>NaN</td>\n",
              "      <td>NaN</td>\n",
              "      <td>NaN</td>\n",
              "      <td>NaN</td>\n",
              "      <td>NaN</td>\n",
              "      <td>NaN</td>\n",
              "    </tr>\n",
              "  </tbody>\n",
              "</table>\n",
              "<p>2394 rows × 21 columns</p>\n",
              "</div>"
            ],
            "text/plain": [
              "      Case Number Date  Year Type  ... href original order Unnamed: 22 Unnamed: 23\n",
              "6309            0  NaN   NaN  NaN  ...  NaN            NaN         NaN         NaN\n",
              "6310            0  NaN   NaN  NaN  ...  NaN            NaN         NaN         NaN\n",
              "6311            0  NaN   NaN  NaN  ...  NaN            NaN         NaN         NaN\n",
              "6312            0  NaN   NaN  NaN  ...  NaN            NaN         NaN         NaN\n",
              "6313            0  NaN   NaN  NaN  ...  NaN            NaN         NaN         NaN\n",
              "...           ...  ...   ...  ...  ...  ...            ...         ...         ...\n",
              "8698            0  NaN   NaN  NaN  ...  NaN            NaN         NaN         NaN\n",
              "8699            0  NaN   NaN  NaN  ...  NaN            NaN         NaN         NaN\n",
              "8700            0  NaN   NaN  NaN  ...  NaN            NaN         NaN         NaN\n",
              "8701            0  NaN   NaN  NaN  ...  NaN            NaN         NaN         NaN\n",
              "25722          xx  NaN   NaN  NaN  ...  NaN            NaN         NaN         NaN\n",
              "\n",
              "[2394 rows x 21 columns]"
            ]
          },
          "metadata": {
            "tags": []
          },
          "execution_count": 257
        }
      ]
    },
    {
      "cell_type": "code",
      "metadata": {
        "colab": {
          "base_uri": "https://localhost:8080/"
        },
        "id": "zBSM9E-JuEk2",
        "outputId": "bdc3d9e0-5752-462e-fa9b-d79435053d09"
      },
      "source": [
        "#Quitaré los nulos de original order que es el número más grande de nulos\n",
        "8703 - 2394"
      ],
      "execution_count": 258,
      "outputs": [
        {
          "output_type": "execute_result",
          "data": {
            "text/plain": [
              "6309"
            ]
          },
          "metadata": {
            "tags": []
          },
          "execution_count": 258
        }
      ]
    },
    {
      "cell_type": "code",
      "metadata": {
        "colab": {
          "base_uri": "https://localhost:8080/"
        },
        "id": "7nSG6WLtvMXx",
        "outputId": "4011c1f6-4392-4f2a-e5a2-e250315ddaf6"
      },
      "source": [
        "df = df.drop(df[df['original order'].isnull()==True].index,axis = 0)\n",
        "df.info()"
      ],
      "execution_count": 260,
      "outputs": [
        {
          "output_type": "stream",
          "text": [
            "<class 'pandas.core.frame.DataFrame'>\n",
            "Int64Index: 6309 entries, 0 to 6308\n",
            "Data columns (total 21 columns):\n",
            " #   Column                  Non-Null Count  Dtype  \n",
            "---  ------                  --------------  -----  \n",
            " 0   Case Number             6309 non-null   object \n",
            " 1   Date                    6302 non-null   object \n",
            " 2   Year                    6300 non-null   float64\n",
            " 3   Type                    6298 non-null   object \n",
            " 4   Country                 6252 non-null   object \n",
            " 5   Area                    5847 non-null   object \n",
            " 6   Location                5762 non-null   object \n",
            " 7   Activity                5758 non-null   object \n",
            " 8   Name                    6092 non-null   object \n",
            " 9   Sex                     5737 non-null   object \n",
            " 10  Age                     3471 non-null   object \n",
            " 11  Injury                  6274 non-null   object \n",
            " 12  Fatal (Y/N)             5763 non-null   object \n",
            " 13  Time                    2948 non-null   object \n",
            " 14  Species                 3464 non-null   object \n",
            " 15  Investigator or Source  6285 non-null   object \n",
            " 16  pdf                     6302 non-null   object \n",
            " 17  href                    6302 non-null   object \n",
            " 18  original order          6309 non-null   float64\n",
            " 19  Unnamed: 22             1 non-null      object \n",
            " 20  Unnamed: 23             2 non-null      object \n",
            "dtypes: float64(2), object(19)\n",
            "memory usage: 1.4+ MB\n"
          ],
          "name": "stdout"
        }
      ]
    },
    {
      "cell_type": "code",
      "metadata": {
        "colab": {
          "base_uri": "https://localhost:8080/",
          "height": 400
        },
        "id": "ExEGkE-Evj4Y",
        "outputId": "4339dc87-26c8-46af-fa62-02e038de0017"
      },
      "source": [
        "df.head(3)"
      ],
      "execution_count": 261,
      "outputs": [
        {
          "output_type": "execute_result",
          "data": {
            "text/html": [
              "<div>\n",
              "<style scoped>\n",
              "    .dataframe tbody tr th:only-of-type {\n",
              "        vertical-align: middle;\n",
              "    }\n",
              "\n",
              "    .dataframe tbody tr th {\n",
              "        vertical-align: top;\n",
              "    }\n",
              "\n",
              "    .dataframe thead th {\n",
              "        text-align: right;\n",
              "    }\n",
              "</style>\n",
              "<table border=\"1\" class=\"dataframe\">\n",
              "  <thead>\n",
              "    <tr style=\"text-align: right;\">\n",
              "      <th></th>\n",
              "      <th>Case Number</th>\n",
              "      <th>Date</th>\n",
              "      <th>Year</th>\n",
              "      <th>Type</th>\n",
              "      <th>Country</th>\n",
              "      <th>Area</th>\n",
              "      <th>Location</th>\n",
              "      <th>Activity</th>\n",
              "      <th>Name</th>\n",
              "      <th>Sex</th>\n",
              "      <th>Age</th>\n",
              "      <th>Injury</th>\n",
              "      <th>Fatal (Y/N)</th>\n",
              "      <th>Time</th>\n",
              "      <th>Species</th>\n",
              "      <th>Investigator or Source</th>\n",
              "      <th>pdf</th>\n",
              "      <th>href</th>\n",
              "      <th>original order</th>\n",
              "      <th>Unnamed: 22</th>\n",
              "      <th>Unnamed: 23</th>\n",
              "    </tr>\n",
              "  </thead>\n",
              "  <tbody>\n",
              "    <tr>\n",
              "      <th>0</th>\n",
              "      <td>2018.06.25</td>\n",
              "      <td>25-Jun-2018</td>\n",
              "      <td>2018.0</td>\n",
              "      <td>Boating</td>\n",
              "      <td>USA</td>\n",
              "      <td>California</td>\n",
              "      <td>Oceanside, San Diego County</td>\n",
              "      <td>Paddling</td>\n",
              "      <td>Julie Wolfe</td>\n",
              "      <td>F</td>\n",
              "      <td>57</td>\n",
              "      <td>No injury to occupant, outrigger canoe and pad...</td>\n",
              "      <td>N</td>\n",
              "      <td>18h00</td>\n",
              "      <td>White shark</td>\n",
              "      <td>R. Collier, GSAF</td>\n",
              "      <td>2018.06.25-Wolfe.pdf</td>\n",
              "      <td>http://sharkattackfile.net/spreadsheets/pdf_di...</td>\n",
              "      <td>6303.0</td>\n",
              "      <td>NaN</td>\n",
              "      <td>NaN</td>\n",
              "    </tr>\n",
              "    <tr>\n",
              "      <th>1</th>\n",
              "      <td>2018.06.18</td>\n",
              "      <td>18-Jun-2018</td>\n",
              "      <td>2018.0</td>\n",
              "      <td>Unprovoked</td>\n",
              "      <td>USA</td>\n",
              "      <td>Georgia</td>\n",
              "      <td>St. Simon Island, Glynn County</td>\n",
              "      <td>Standing</td>\n",
              "      <td>Adyson McNeely</td>\n",
              "      <td>F</td>\n",
              "      <td>11</td>\n",
              "      <td>Minor injury to left thigh</td>\n",
              "      <td>N</td>\n",
              "      <td>14h00  -15h00</td>\n",
              "      <td>NaN</td>\n",
              "      <td>K.McMurray, TrackingSharks.com</td>\n",
              "      <td>2018.06.18-McNeely.pdf</td>\n",
              "      <td>http://sharkattackfile.net/spreadsheets/pdf_di...</td>\n",
              "      <td>6302.0</td>\n",
              "      <td>NaN</td>\n",
              "      <td>NaN</td>\n",
              "    </tr>\n",
              "    <tr>\n",
              "      <th>2</th>\n",
              "      <td>2018.06.09</td>\n",
              "      <td>09-Jun-2018</td>\n",
              "      <td>2018.0</td>\n",
              "      <td>Invalid</td>\n",
              "      <td>USA</td>\n",
              "      <td>Hawaii</td>\n",
              "      <td>Habush, Oahu</td>\n",
              "      <td>Surfing</td>\n",
              "      <td>John Denges</td>\n",
              "      <td>M</td>\n",
              "      <td>48</td>\n",
              "      <td>Injury to left lower leg from surfboard skeg</td>\n",
              "      <td>N</td>\n",
              "      <td>07h45</td>\n",
              "      <td>NaN</td>\n",
              "      <td>K.McMurray, TrackingSharks.com</td>\n",
              "      <td>2018.06.09-Denges.pdf</td>\n",
              "      <td>http://sharkattackfile.net/spreadsheets/pdf_di...</td>\n",
              "      <td>6301.0</td>\n",
              "      <td>NaN</td>\n",
              "      <td>NaN</td>\n",
              "    </tr>\n",
              "  </tbody>\n",
              "</table>\n",
              "</div>"
            ],
            "text/plain": [
              "  Case Number         Date    Year  ... original order Unnamed: 22 Unnamed: 23\n",
              "0  2018.06.25  25-Jun-2018  2018.0  ...         6303.0         NaN         NaN\n",
              "1  2018.06.18  18-Jun-2018  2018.0  ...         6302.0         NaN         NaN\n",
              "2  2018.06.09  09-Jun-2018  2018.0  ...         6301.0         NaN         NaN\n",
              "\n",
              "[3 rows x 21 columns]"
            ]
          },
          "metadata": {
            "tags": []
          },
          "execution_count": 261
        }
      ]
    },
    {
      "cell_type": "code",
      "metadata": {
        "colab": {
          "base_uri": "https://localhost:8080/"
        },
        "id": "-1PPKvV-wOAn",
        "outputId": "da6c5849-7cbf-4739-c013-e6a0c18e33ac"
      },
      "source": [
        "np.where(df['Date'].isnull())[0]"
      ],
      "execution_count": 262,
      "outputs": [
        {
          "output_type": "execute_result",
          "data": {
            "text/plain": [
              "array([6302, 6303, 6304, 6305, 6306, 6307, 6308])"
            ]
          },
          "metadata": {
            "tags": []
          },
          "execution_count": 262
        }
      ]
    },
    {
      "cell_type": "code",
      "metadata": {
        "id": "FDEcU_aGd4ZZ",
        "colab": {
          "base_uri": "https://localhost:8080/",
          "height": 303
        },
        "outputId": "f5c9cc99-902f-448d-f4d1-8c2340303418"
      },
      "source": [
        "df[6302:6309]"
      ],
      "execution_count": 264,
      "outputs": [
        {
          "output_type": "execute_result",
          "data": {
            "text/html": [
              "<div>\n",
              "<style scoped>\n",
              "    .dataframe tbody tr th:only-of-type {\n",
              "        vertical-align: middle;\n",
              "    }\n",
              "\n",
              "    .dataframe tbody tr th {\n",
              "        vertical-align: top;\n",
              "    }\n",
              "\n",
              "    .dataframe thead th {\n",
              "        text-align: right;\n",
              "    }\n",
              "</style>\n",
              "<table border=\"1\" class=\"dataframe\">\n",
              "  <thead>\n",
              "    <tr style=\"text-align: right;\">\n",
              "      <th></th>\n",
              "      <th>Case Number</th>\n",
              "      <th>Date</th>\n",
              "      <th>Year</th>\n",
              "      <th>Type</th>\n",
              "      <th>Country</th>\n",
              "      <th>Area</th>\n",
              "      <th>Location</th>\n",
              "      <th>Activity</th>\n",
              "      <th>Name</th>\n",
              "      <th>Sex</th>\n",
              "      <th>Age</th>\n",
              "      <th>Injury</th>\n",
              "      <th>Fatal (Y/N)</th>\n",
              "      <th>Time</th>\n",
              "      <th>Species</th>\n",
              "      <th>Investigator or Source</th>\n",
              "      <th>pdf</th>\n",
              "      <th>href</th>\n",
              "      <th>original order</th>\n",
              "      <th>Unnamed: 22</th>\n",
              "      <th>Unnamed: 23</th>\n",
              "    </tr>\n",
              "  </thead>\n",
              "  <tbody>\n",
              "    <tr>\n",
              "      <th>6302</th>\n",
              "      <td>0</td>\n",
              "      <td>NaN</td>\n",
              "      <td>NaN</td>\n",
              "      <td>NaN</td>\n",
              "      <td>NaN</td>\n",
              "      <td>NaN</td>\n",
              "      <td>NaN</td>\n",
              "      <td>NaN</td>\n",
              "      <td>NaN</td>\n",
              "      <td>NaN</td>\n",
              "      <td>NaN</td>\n",
              "      <td>NaN</td>\n",
              "      <td>NaN</td>\n",
              "      <td>NaN</td>\n",
              "      <td>NaN</td>\n",
              "      <td>NaN</td>\n",
              "      <td>NaN</td>\n",
              "      <td>NaN</td>\n",
              "      <td>6304.0</td>\n",
              "      <td>NaN</td>\n",
              "      <td>NaN</td>\n",
              "    </tr>\n",
              "    <tr>\n",
              "      <th>6303</th>\n",
              "      <td>0</td>\n",
              "      <td>NaN</td>\n",
              "      <td>NaN</td>\n",
              "      <td>NaN</td>\n",
              "      <td>NaN</td>\n",
              "      <td>NaN</td>\n",
              "      <td>NaN</td>\n",
              "      <td>NaN</td>\n",
              "      <td>NaN</td>\n",
              "      <td>NaN</td>\n",
              "      <td>NaN</td>\n",
              "      <td>NaN</td>\n",
              "      <td>NaN</td>\n",
              "      <td>NaN</td>\n",
              "      <td>NaN</td>\n",
              "      <td>NaN</td>\n",
              "      <td>NaN</td>\n",
              "      <td>NaN</td>\n",
              "      <td>6305.0</td>\n",
              "      <td>NaN</td>\n",
              "      <td>NaN</td>\n",
              "    </tr>\n",
              "    <tr>\n",
              "      <th>6304</th>\n",
              "      <td>0</td>\n",
              "      <td>NaN</td>\n",
              "      <td>NaN</td>\n",
              "      <td>NaN</td>\n",
              "      <td>NaN</td>\n",
              "      <td>NaN</td>\n",
              "      <td>NaN</td>\n",
              "      <td>NaN</td>\n",
              "      <td>NaN</td>\n",
              "      <td>NaN</td>\n",
              "      <td>NaN</td>\n",
              "      <td>NaN</td>\n",
              "      <td>NaN</td>\n",
              "      <td>NaN</td>\n",
              "      <td>NaN</td>\n",
              "      <td>NaN</td>\n",
              "      <td>NaN</td>\n",
              "      <td>NaN</td>\n",
              "      <td>6306.0</td>\n",
              "      <td>NaN</td>\n",
              "      <td>NaN</td>\n",
              "    </tr>\n",
              "    <tr>\n",
              "      <th>6305</th>\n",
              "      <td>0</td>\n",
              "      <td>NaN</td>\n",
              "      <td>NaN</td>\n",
              "      <td>NaN</td>\n",
              "      <td>NaN</td>\n",
              "      <td>NaN</td>\n",
              "      <td>NaN</td>\n",
              "      <td>NaN</td>\n",
              "      <td>NaN</td>\n",
              "      <td>NaN</td>\n",
              "      <td>NaN</td>\n",
              "      <td>NaN</td>\n",
              "      <td>NaN</td>\n",
              "      <td>NaN</td>\n",
              "      <td>NaN</td>\n",
              "      <td>NaN</td>\n",
              "      <td>NaN</td>\n",
              "      <td>NaN</td>\n",
              "      <td>6307.0</td>\n",
              "      <td>NaN</td>\n",
              "      <td>NaN</td>\n",
              "    </tr>\n",
              "    <tr>\n",
              "      <th>6306</th>\n",
              "      <td>0</td>\n",
              "      <td>NaN</td>\n",
              "      <td>NaN</td>\n",
              "      <td>NaN</td>\n",
              "      <td>NaN</td>\n",
              "      <td>NaN</td>\n",
              "      <td>NaN</td>\n",
              "      <td>NaN</td>\n",
              "      <td>NaN</td>\n",
              "      <td>NaN</td>\n",
              "      <td>NaN</td>\n",
              "      <td>NaN</td>\n",
              "      <td>NaN</td>\n",
              "      <td>NaN</td>\n",
              "      <td>NaN</td>\n",
              "      <td>NaN</td>\n",
              "      <td>NaN</td>\n",
              "      <td>NaN</td>\n",
              "      <td>6308.0</td>\n",
              "      <td>NaN</td>\n",
              "      <td>NaN</td>\n",
              "    </tr>\n",
              "    <tr>\n",
              "      <th>6307</th>\n",
              "      <td>0</td>\n",
              "      <td>NaN</td>\n",
              "      <td>NaN</td>\n",
              "      <td>NaN</td>\n",
              "      <td>NaN</td>\n",
              "      <td>NaN</td>\n",
              "      <td>NaN</td>\n",
              "      <td>NaN</td>\n",
              "      <td>NaN</td>\n",
              "      <td>NaN</td>\n",
              "      <td>NaN</td>\n",
              "      <td>NaN</td>\n",
              "      <td>NaN</td>\n",
              "      <td>NaN</td>\n",
              "      <td>NaN</td>\n",
              "      <td>NaN</td>\n",
              "      <td>NaN</td>\n",
              "      <td>NaN</td>\n",
              "      <td>6309.0</td>\n",
              "      <td>NaN</td>\n",
              "      <td>NaN</td>\n",
              "    </tr>\n",
              "    <tr>\n",
              "      <th>6308</th>\n",
              "      <td>0</td>\n",
              "      <td>NaN</td>\n",
              "      <td>NaN</td>\n",
              "      <td>NaN</td>\n",
              "      <td>NaN</td>\n",
              "      <td>NaN</td>\n",
              "      <td>NaN</td>\n",
              "      <td>NaN</td>\n",
              "      <td>NaN</td>\n",
              "      <td>NaN</td>\n",
              "      <td>NaN</td>\n",
              "      <td>NaN</td>\n",
              "      <td>NaN</td>\n",
              "      <td>NaN</td>\n",
              "      <td>NaN</td>\n",
              "      <td>NaN</td>\n",
              "      <td>NaN</td>\n",
              "      <td>NaN</td>\n",
              "      <td>6310.0</td>\n",
              "      <td>NaN</td>\n",
              "      <td>NaN</td>\n",
              "    </tr>\n",
              "  </tbody>\n",
              "</table>\n",
              "</div>"
            ],
            "text/plain": [
              "     Case Number Date  Year Type  ... href original order Unnamed: 22 Unnamed: 23\n",
              "6302           0  NaN   NaN  NaN  ...  NaN         6304.0         NaN         NaN\n",
              "6303           0  NaN   NaN  NaN  ...  NaN         6305.0         NaN         NaN\n",
              "6304           0  NaN   NaN  NaN  ...  NaN         6306.0         NaN         NaN\n",
              "6305           0  NaN   NaN  NaN  ...  NaN         6307.0         NaN         NaN\n",
              "6306           0  NaN   NaN  NaN  ...  NaN         6308.0         NaN         NaN\n",
              "6307           0  NaN   NaN  NaN  ...  NaN         6309.0         NaN         NaN\n",
              "6308           0  NaN   NaN  NaN  ...  NaN         6310.0         NaN         NaN\n",
              "\n",
              "[7 rows x 21 columns]"
            ]
          },
          "metadata": {
            "tags": []
          },
          "execution_count": 264
        }
      ]
    },
    {
      "cell_type": "code",
      "metadata": {
        "id": "zZb9SrZleJnU"
      },
      "source": [
        "df = df.drop(df[df['Date'].isnull() == True].index, axis=0)\n"
      ],
      "execution_count": 266,
      "outputs": []
    },
    {
      "cell_type": "code",
      "metadata": {
        "colab": {
          "base_uri": "https://localhost:8080/",
          "height": 479
        },
        "id": "BGf5rQyoz1V5",
        "outputId": "98a00e96-ad67-45b4-cc65-c5566d03858b"
      },
      "source": [
        "df.tail()"
      ],
      "execution_count": 267,
      "outputs": [
        {
          "output_type": "execute_result",
          "data": {
            "text/html": [
              "<div>\n",
              "<style scoped>\n",
              "    .dataframe tbody tr th:only-of-type {\n",
              "        vertical-align: middle;\n",
              "    }\n",
              "\n",
              "    .dataframe tbody tr th {\n",
              "        vertical-align: top;\n",
              "    }\n",
              "\n",
              "    .dataframe thead th {\n",
              "        text-align: right;\n",
              "    }\n",
              "</style>\n",
              "<table border=\"1\" class=\"dataframe\">\n",
              "  <thead>\n",
              "    <tr style=\"text-align: right;\">\n",
              "      <th></th>\n",
              "      <th>Case Number</th>\n",
              "      <th>Date</th>\n",
              "      <th>Year</th>\n",
              "      <th>Type</th>\n",
              "      <th>Country</th>\n",
              "      <th>Area</th>\n",
              "      <th>Location</th>\n",
              "      <th>Activity</th>\n",
              "      <th>Name</th>\n",
              "      <th>Sex</th>\n",
              "      <th>Age</th>\n",
              "      <th>Injury</th>\n",
              "      <th>Fatal (Y/N)</th>\n",
              "      <th>Time</th>\n",
              "      <th>Species</th>\n",
              "      <th>Investigator or Source</th>\n",
              "      <th>pdf</th>\n",
              "      <th>href</th>\n",
              "      <th>original order</th>\n",
              "      <th>Unnamed: 22</th>\n",
              "      <th>Unnamed: 23</th>\n",
              "    </tr>\n",
              "  </thead>\n",
              "  <tbody>\n",
              "    <tr>\n",
              "      <th>6297</th>\n",
              "      <td>ND.0005</td>\n",
              "      <td>Before 1903</td>\n",
              "      <td>0.0</td>\n",
              "      <td>Unprovoked</td>\n",
              "      <td>AUSTRALIA</td>\n",
              "      <td>Western Australia</td>\n",
              "      <td>Roebuck Bay</td>\n",
              "      <td>Diving</td>\n",
              "      <td>male</td>\n",
              "      <td>M</td>\n",
              "      <td>NaN</td>\n",
              "      <td>FATAL</td>\n",
              "      <td>Y</td>\n",
              "      <td>NaN</td>\n",
              "      <td>NaN</td>\n",
              "      <td>H. Taunton; N. Bartlett,  p. 234</td>\n",
              "      <td>ND-0005-RoebuckBay.pdf</td>\n",
              "      <td>http://sharkattackfile.net/spreadsheets/pdf_di...</td>\n",
              "      <td>6.0</td>\n",
              "      <td>NaN</td>\n",
              "      <td>NaN</td>\n",
              "    </tr>\n",
              "    <tr>\n",
              "      <th>6298</th>\n",
              "      <td>ND.0004</td>\n",
              "      <td>Before 1903</td>\n",
              "      <td>0.0</td>\n",
              "      <td>Unprovoked</td>\n",
              "      <td>AUSTRALIA</td>\n",
              "      <td>Western Australia</td>\n",
              "      <td>NaN</td>\n",
              "      <td>Pearl diving</td>\n",
              "      <td>Ahmun</td>\n",
              "      <td>M</td>\n",
              "      <td>NaN</td>\n",
              "      <td>FATAL</td>\n",
              "      <td>Y</td>\n",
              "      <td>NaN</td>\n",
              "      <td>NaN</td>\n",
              "      <td>H. Taunton; N. Bartlett,  pp. 233-234</td>\n",
              "      <td>ND-0004-Ahmun.pdf</td>\n",
              "      <td>http://sharkattackfile.net/spreadsheets/pdf_di...</td>\n",
              "      <td>5.0</td>\n",
              "      <td>NaN</td>\n",
              "      <td>NaN</td>\n",
              "    </tr>\n",
              "    <tr>\n",
              "      <th>6299</th>\n",
              "      <td>ND.0003</td>\n",
              "      <td>1900-1905</td>\n",
              "      <td>0.0</td>\n",
              "      <td>Unprovoked</td>\n",
              "      <td>USA</td>\n",
              "      <td>North Carolina</td>\n",
              "      <td>Ocracoke Inlet</td>\n",
              "      <td>Swimming</td>\n",
              "      <td>Coast Guard personnel</td>\n",
              "      <td>M</td>\n",
              "      <td>NaN</td>\n",
              "      <td>FATAL</td>\n",
              "      <td>Y</td>\n",
              "      <td>NaN</td>\n",
              "      <td>NaN</td>\n",
              "      <td>F. Schwartz, p.23; C. Creswell, GSAF</td>\n",
              "      <td>ND-0003-Ocracoke_1900-1905.pdf</td>\n",
              "      <td>http://sharkattackfile.net/spreadsheets/pdf_di...</td>\n",
              "      <td>4.0</td>\n",
              "      <td>NaN</td>\n",
              "      <td>NaN</td>\n",
              "    </tr>\n",
              "    <tr>\n",
              "      <th>6300</th>\n",
              "      <td>ND.0002</td>\n",
              "      <td>1883-1889</td>\n",
              "      <td>0.0</td>\n",
              "      <td>Unprovoked</td>\n",
              "      <td>PANAMA</td>\n",
              "      <td>NaN</td>\n",
              "      <td>Panama Bay 8ºN, 79ºW</td>\n",
              "      <td>NaN</td>\n",
              "      <td>Jules Patterson</td>\n",
              "      <td>M</td>\n",
              "      <td>NaN</td>\n",
              "      <td>FATAL</td>\n",
              "      <td>Y</td>\n",
              "      <td>NaN</td>\n",
              "      <td>NaN</td>\n",
              "      <td>The Sun, 10/20/1938</td>\n",
              "      <td>ND-0002-JulesPatterson.pdf</td>\n",
              "      <td>http://sharkattackfile.net/spreadsheets/pdf_di...</td>\n",
              "      <td>3.0</td>\n",
              "      <td>NaN</td>\n",
              "      <td>NaN</td>\n",
              "    </tr>\n",
              "    <tr>\n",
              "      <th>6301</th>\n",
              "      <td>ND.0001</td>\n",
              "      <td>1845-1853</td>\n",
              "      <td>0.0</td>\n",
              "      <td>Unprovoked</td>\n",
              "      <td>CEYLON (SRI LANKA)</td>\n",
              "      <td>Eastern Province</td>\n",
              "      <td>Below the English fort, Trincomalee</td>\n",
              "      <td>Swimming</td>\n",
              "      <td>male</td>\n",
              "      <td>M</td>\n",
              "      <td>15</td>\n",
              "      <td>FATAL. \"Shark bit him in half, carrying away t...</td>\n",
              "      <td>Y</td>\n",
              "      <td>NaN</td>\n",
              "      <td>NaN</td>\n",
              "      <td>S.W. Baker</td>\n",
              "      <td>ND-0001-Ceylon.pdf</td>\n",
              "      <td>http://sharkattackfile.net/spreadsheets/pdf_di...</td>\n",
              "      <td>2.0</td>\n",
              "      <td>NaN</td>\n",
              "      <td>NaN</td>\n",
              "    </tr>\n",
              "  </tbody>\n",
              "</table>\n",
              "</div>"
            ],
            "text/plain": [
              "     Case Number         Date  Year  ... original order Unnamed: 22 Unnamed: 23\n",
              "6297     ND.0005  Before 1903   0.0  ...            6.0         NaN         NaN\n",
              "6298     ND.0004  Before 1903   0.0  ...            5.0         NaN         NaN\n",
              "6299     ND.0003    1900-1905   0.0  ...            4.0         NaN         NaN\n",
              "6300     ND.0002    1883-1889   0.0  ...            3.0         NaN         NaN\n",
              "6301     ND.0001    1845-1853   0.0  ...            2.0         NaN         NaN\n",
              "\n",
              "[5 rows x 21 columns]"
            ]
          },
          "metadata": {
            "tags": []
          },
          "execution_count": 267
        }
      ]
    },
    {
      "cell_type": "code",
      "metadata": {
        "colab": {
          "base_uri": "https://localhost:8080/"
        },
        "id": "X0f_3vK4e2OP",
        "outputId": "0d530446-485d-43c3-e092-d5d89503b7ee"
      },
      "source": [
        "df.info()"
      ],
      "execution_count": 268,
      "outputs": [
        {
          "output_type": "stream",
          "text": [
            "<class 'pandas.core.frame.DataFrame'>\n",
            "Int64Index: 6302 entries, 0 to 6301\n",
            "Data columns (total 21 columns):\n",
            " #   Column                  Non-Null Count  Dtype  \n",
            "---  ------                  --------------  -----  \n",
            " 0   Case Number             6302 non-null   object \n",
            " 1   Date                    6302 non-null   object \n",
            " 2   Year                    6300 non-null   float64\n",
            " 3   Type                    6298 non-null   object \n",
            " 4   Country                 6252 non-null   object \n",
            " 5   Area                    5847 non-null   object \n",
            " 6   Location                5762 non-null   object \n",
            " 7   Activity                5758 non-null   object \n",
            " 8   Name                    6092 non-null   object \n",
            " 9   Sex                     5737 non-null   object \n",
            " 10  Age                     3471 non-null   object \n",
            " 11  Injury                  6274 non-null   object \n",
            " 12  Fatal (Y/N)             5763 non-null   object \n",
            " 13  Time                    2948 non-null   object \n",
            " 14  Species                 3464 non-null   object \n",
            " 15  Investigator or Source  6285 non-null   object \n",
            " 16  pdf                     6302 non-null   object \n",
            " 17  href                    6302 non-null   object \n",
            " 18  original order          6302 non-null   float64\n",
            " 19  Unnamed: 22             1 non-null      object \n",
            " 20  Unnamed: 23             2 non-null      object \n",
            "dtypes: float64(2), object(19)\n",
            "memory usage: 1.2+ MB\n"
          ],
          "name": "stdout"
        }
      ]
    },
    {
      "cell_type": "code",
      "metadata": {
        "id": "BMcATjwcx412",
        "colab": {
          "base_uri": "https://localhost:8080/"
        },
        "outputId": "02b28031-952a-401b-d231-0b329a1aed9e"
      },
      "source": [
        "df.Age.unique()"
      ],
      "execution_count": 269,
      "outputs": [
        {
          "output_type": "execute_result",
          "data": {
            "text/plain": [
              "array(['57', '11', '48', nan, '18', '52', '15', '12', '32', '10', '21',\n",
              "       '34', '30', '60', '33', '29', '54', '41', '37', '56', '19', '25',\n",
              "       '69', '38', '55', '35', '46', '45', '14', '40s', '28', '20', '24',\n",
              "       '26', '49', '22', '7', '31', '17', '40', '13', '42', '3', '8',\n",
              "       '50', '16', '82', '73', '20s', '68', '51', '39', '58', 'Teen',\n",
              "       '47', '61', '65', '36', '66', '43', '60s', '9', '72', '59', '6',\n",
              "       '27', '64', '23', '71', '44', '62', '63', '70', '18 months', '53',\n",
              "       '30s', '50s', 'teen', '77', '74', '28 & 26', '5', '86', '18 or 20',\n",
              "       '12 or 13', '46 & 34', '28, 23 & 30', 'Teens', '36 & 26',\n",
              "       '8 or 10', '84', '\\xa0 ', ' ', '30 or 36', '6½', '21 & ?', '75',\n",
              "       '33 or 37', 'mid-30s', '23 & 20', ' 30', '7      &    31', ' 28',\n",
              "       '20?', \"60's\", '32 & 30', '16 to 18', '87', '67', 'Elderly',\n",
              "       'mid-20s', 'Ca. 33', '74 ', '45 ', '21 or 26', '20 ', '>50',\n",
              "       '18 to 22', 'adult', '9 & 12', '? & 19', '9 months', '25 to 35',\n",
              "       '23 & 26', '1', '(adult)', '33 & 37', '25 or 28',\n",
              "       '37, 67, 35, 27,  ? & 27', '21, 34,24 & 35', '30 & 32', '50 & 30',\n",
              "       '17 & 35', 'X', '\"middle-age\"', '13 or 18', '34 & 19', '33 & 26',\n",
              "       '2 to 3 months', 'MAKE LINE GREEN', ' 43', '81', '\"young\"',\n",
              "       '7 or 8', '78', '17 & 16', 'F', 'Both 11', '9 or 10', 'young',\n",
              "       '36 & 23', '  ', 'A.M.', '?    &   14', '10 or 12', '31 or 33',\n",
              "       '2½', '13 or 14'], dtype=object)"
            ]
          },
          "metadata": {
            "tags": []
          },
          "execution_count": 269
        }
      ]
    },
    {
      "cell_type": "code",
      "metadata": {
        "colab": {
          "base_uri": "https://localhost:8080/"
        },
        "id": "ZsrZml5NhTov",
        "outputId": "2123207e-9387-4e72-e5d1-77912ad8e04e"
      },
      "source": [
        "np.where(df.Age == 'Teen')"
      ],
      "execution_count": 270,
      "outputs": [
        {
          "output_type": "execute_result",
          "data": {
            "text/plain": [
              "(array([ 182,  294,  526,  983, 1331, 1658, 3643, 5002, 5544]),)"
            ]
          },
          "metadata": {
            "tags": []
          },
          "execution_count": 270
        }
      ]
    },
    {
      "cell_type": "code",
      "metadata": {
        "id": "7xDp4A78ijvO"
      },
      "source": [
        "df.at[182,'Age']=15"
      ],
      "execution_count": 271,
      "outputs": []
    },
    {
      "cell_type": "code",
      "metadata": {
        "colab": {
          "base_uri": "https://localhost:8080/"
        },
        "id": "eDAUgoCBi5ZZ",
        "outputId": "0478a18f-18cb-45fa-e22a-c2aa95b711c7"
      },
      "source": [
        "np.where(df.Age == 'Teen')"
      ],
      "execution_count": 272,
      "outputs": [
        {
          "output_type": "execute_result",
          "data": {
            "text/plain": [
              "(array([ 294,  526,  983, 1331, 1658, 3643, 5002, 5544]),)"
            ]
          },
          "metadata": {
            "tags": []
          },
          "execution_count": 272
        }
      ]
    },
    {
      "cell_type": "code",
      "metadata": {
        "id": "arAnJyM3i626"
      },
      "source": [
        "df['Age'] = df['Age'].replace('Teen', 15)"
      ],
      "execution_count": 273,
      "outputs": []
    },
    {
      "cell_type": "code",
      "metadata": {
        "id": "NEk_JjnzlBVy"
      },
      "source": [
        "df['Age'] = df['Age'].replace('teen', 15)"
      ],
      "execution_count": 274,
      "outputs": []
    },
    {
      "cell_type": "code",
      "metadata": {
        "id": "aM0b3AEPjyzL"
      },
      "source": [
        "df['Age'] = df['Age'].replace('Teens', 15)"
      ],
      "execution_count": 275,
      "outputs": []
    },
    {
      "cell_type": "code",
      "metadata": {
        "id": "2dikdifskALl"
      },
      "source": [
        "df['Age'] = df['Age'].replace('20s', 20)"
      ],
      "execution_count": 276,
      "outputs": []
    },
    {
      "cell_type": "code",
      "metadata": {
        "id": "avjx7JoFkmj8"
      },
      "source": [
        "df['Age'] = df['Age'].replace('30s', 20)"
      ],
      "execution_count": 277,
      "outputs": []
    },
    {
      "cell_type": "code",
      "metadata": {
        "id": "CLUSL9a6khCR"
      },
      "source": [
        "df['Age'] = df['Age'].replace('40s', 20)"
      ],
      "execution_count": 278,
      "outputs": []
    },
    {
      "cell_type": "code",
      "metadata": {
        "id": "ksNZadeaktQI"
      },
      "source": [
        "df['Age'] = df['Age'].replace('50s', 20)"
      ],
      "execution_count": 279,
      "outputs": []
    },
    {
      "cell_type": "code",
      "metadata": {
        "id": "WEljnYB7kkwp"
      },
      "source": [
        "df['Age'] = df['Age'].replace('60s', 20)"
      ],
      "execution_count": 280,
      "outputs": []
    },
    {
      "cell_type": "code",
      "metadata": {
        "id": "8UJRv9k6lo9V"
      },
      "source": [
        "df['Age'] = df['Age'].replace(\"60's\", 20)"
      ],
      "execution_count": 281,
      "outputs": []
    },
    {
      "cell_type": "code",
      "metadata": {
        "id": "ylF2p4wyk1-_"
      },
      "source": [
        "df['Age'] = df['Age'].replace('18 months', .5)"
      ],
      "execution_count": 282,
      "outputs": []
    },
    {
      "cell_type": "code",
      "metadata": {
        "id": "u3WsfPMGlWoN"
      },
      "source": [
        "df['Age'] = df['Age'].replace('2 to 3 months', .5)"
      ],
      "execution_count": 283,
      "outputs": []
    },
    {
      "cell_type": "code",
      "metadata": {
        "id": "98UcSEetl0Oh"
      },
      "source": [
        "df['Age'] = df['Age'].replace('months', .5)"
      ],
      "execution_count": 284,
      "outputs": []
    },
    {
      "cell_type": "code",
      "metadata": {
        "id": "kmbjWEygkzAO"
      },
      "source": [
        "df['Age'] = df['Age'].replace('46 & 34', 40)"
      ],
      "execution_count": 285,
      "outputs": []
    },
    {
      "cell_type": "code",
      "metadata": {
        "id": "nsuclh-Pn2U6"
      },
      "source": [
        "df['Age'] = df['Age'].replace('12 or 13', 12)"
      ],
      "execution_count": 286,
      "outputs": []
    },
    {
      "cell_type": "code",
      "metadata": {
        "id": "GX7KKqB1oBdJ"
      },
      "source": [
        "df['Age'] = df['Age'].replace('33 or 37',33 )"
      ],
      "execution_count": 287,
      "outputs": []
    },
    {
      "cell_type": "code",
      "metadata": {
        "id": "pCCH4uKxoFOr"
      },
      "source": [
        "df['Age'] = df['Age'].replace('7      &    31', 19 )"
      ],
      "execution_count": 288,
      "outputs": []
    },
    {
      "cell_type": "code",
      "metadata": {
        "id": "_g-0cNyVoFKd"
      },
      "source": [
        "df['Age'] = df['Age'].replace('9 months', .5)"
      ],
      "execution_count": 289,
      "outputs": []
    },
    {
      "cell_type": "code",
      "metadata": {
        "id": "5yfbWUu8oFHD"
      },
      "source": [
        "df['Age'] = df['Age'].replace('28 & 26', 26)"
      ],
      "execution_count": 290,
      "outputs": []
    },
    {
      "cell_type": "code",
      "metadata": {
        "id": "nYPlHz2CoFEH"
      },
      "source": [
        "df['Age'] = df['Age'].replace('36 & 26', 30)"
      ],
      "execution_count": 291,
      "outputs": []
    },
    {
      "cell_type": "code",
      "metadata": {
        "id": "zIyQlqxCoE7P"
      },
      "source": [
        "df['Age'] = df['Age'].replace('21 or 26', 21 )"
      ],
      "execution_count": 292,
      "outputs": []
    },
    {
      "cell_type": "code",
      "metadata": {
        "id": "WQpWxwZNobnc"
      },
      "source": [
        "df['Age'] = df['Age'].replace('? & 19', 19)"
      ],
      "execution_count": 293,
      "outputs": []
    },
    {
      "cell_type": "code",
      "metadata": {
        "id": "PLG38gP0obhv"
      },
      "source": [
        "df['Age'] = df['Age'].replace('25 or 28', 25)"
      ],
      "execution_count": 294,
      "outputs": []
    },
    {
      "cell_type": "code",
      "metadata": {
        "id": "xtN6djkyobee"
      },
      "source": [
        "df['Age'] = df['Age'].replace('30 or 36', 30)"
      ],
      "execution_count": 295,
      "outputs": []
    },
    {
      "cell_type": "code",
      "metadata": {
        "id": "PF4chVc2obYw"
      },
      "source": [
        "df['Age'] = df['Age'].replace('8 or 10',8 )"
      ],
      "execution_count": 296,
      "outputs": []
    },
    {
      "cell_type": "code",
      "metadata": {
        "id": "EBWwYt0-pPce"
      },
      "source": [
        "df['Age'] = df['Age'].replace('mid-30s', 35)"
      ],
      "execution_count": 297,
      "outputs": []
    },
    {
      "cell_type": "code",
      "metadata": {
        "id": "vq2DqQUhpPZM"
      },
      "source": [
        "df['Age'] = df['Age'].replace('Elderly', 80)"
      ],
      "execution_count": 298,
      "outputs": []
    },
    {
      "cell_type": "code",
      "metadata": {
        "id": "Xx_iDnjJpPWh"
      },
      "source": [
        "df['Age'] = df['Age'].replace('\\xa0 ', .5)"
      ],
      "execution_count": 299,
      "outputs": []
    },
    {
      "cell_type": "code",
      "metadata": {
        "id": "yrPJvrE4pPTu"
      },
      "source": [
        "df['Age'] = df['Age'].replace('28, 23 & 30', 23)"
      ],
      "execution_count": 300,
      "outputs": []
    },
    {
      "cell_type": "code",
      "metadata": {
        "id": "-0Pxmwl7pPQ2"
      },
      "source": [
        "df['Age'] = df['Age'].replace('mid-20s', 25)"
      ],
      "execution_count": 301,
      "outputs": []
    },
    {
      "cell_type": "code",
      "metadata": {
        "id": "nt5Uo3qspPOE"
      },
      "source": [
        "df['Age'] = df['Age'].replace('18 to 22', 18)"
      ],
      "execution_count": 302,
      "outputs": []
    },
    {
      "cell_type": "code",
      "metadata": {
        "id": "I2DkT282pPJ1"
      },
      "source": [
        "df['Age'] = df['Age'].replace('\"middle-age\"', 30)"
      ],
      "execution_count": 303,
      "outputs": []
    },
    {
      "cell_type": "code",
      "metadata": {
        "id": "nh_RDlHKq83r"
      },
      "source": [
        "df['Age'] = df['Age'].replace('(adult)', 30)"
      ],
      "execution_count": 304,
      "outputs": []
    },
    {
      "cell_type": "code",
      "metadata": {
        "id": "nRrLbQYLq80i"
      },
      "source": [
        "df['Age'] = df['Age'].replace('13 or 18', 13)"
      ],
      "execution_count": 305,
      "outputs": []
    },
    {
      "cell_type": "code",
      "metadata": {
        "id": "qE4KBNlQq8yQ"
      },
      "source": [
        "df['Age'] = df['Age'].replace('20?', 20)"
      ],
      "execution_count": 306,
      "outputs": []
    },
    {
      "cell_type": "code",
      "metadata": {
        "id": "qY6F-9QTq8vz"
      },
      "source": [
        "df['Age'] = df['Age'].replace('21 & ?', 21)"
      ],
      "execution_count": 307,
      "outputs": []
    },
    {
      "cell_type": "code",
      "metadata": {
        "id": "qOxZH6Hjq8tU"
      },
      "source": [
        "df['Age'] = df['Age'].replace('adult',30 )"
      ],
      "execution_count": 308,
      "outputs": []
    },
    {
      "cell_type": "code",
      "metadata": {
        "id": "ASAmsOlGq8rD"
      },
      "source": [
        "df['Age'] = df['Age'].replace('30 & 32',30 )"
      ],
      "execution_count": 309,
      "outputs": []
    },
    {
      "cell_type": "code",
      "metadata": {
        "id": "MCnBjnxjq8oi"
      },
      "source": [
        "df['Age'] = df['Age'].replace('18 or 20',18 )"
      ],
      "execution_count": 310,
      "outputs": []
    },
    {
      "cell_type": "code",
      "metadata": {
        "id": "aLjQAZ-eq8jb"
      },
      "source": [
        "df['Age'] = df['Age'].replace('>50', 49)"
      ],
      "execution_count": 311,
      "outputs": []
    },
    {
      "cell_type": "code",
      "metadata": {
        "id": "SefZfkI4q8gk"
      },
      "source": [
        "df['Age'] = df['Age'].replace('6½', 6)"
      ],
      "execution_count": 312,
      "outputs": []
    },
    {
      "cell_type": "code",
      "metadata": {
        "id": "M8OXFAFTq8bW"
      },
      "source": [
        "df['Age'] = df['Age'].replace('17 & 35', 26)"
      ],
      "execution_count": 313,
      "outputs": []
    },
    {
      "cell_type": "code",
      "metadata": {
        "id": "J-6KrdI5pO11"
      },
      "source": [
        "df['Age'] = df['Age'].replace(' ', .5)"
      ],
      "execution_count": 314,
      "outputs": []
    },
    {
      "cell_type": "code",
      "metadata": {
        "id": "q-hLCsECsFws"
      },
      "source": [
        "df['Age'] = df['Age'].replace('23 & 20', 20)"
      ],
      "execution_count": 315,
      "outputs": []
    },
    {
      "cell_type": "code",
      "metadata": {
        "id": "phzGmdV2sFt8"
      },
      "source": [
        "df['Age'] = df['Age'].replace('32 & 30', 30)"
      ],
      "execution_count": 316,
      "outputs": []
    },
    {
      "cell_type": "code",
      "metadata": {
        "id": "L4TSjHv2sFrY"
      },
      "source": [
        "df['Age'] = df['Age'].replace('16 to 18', 16)"
      ],
      "execution_count": 317,
      "outputs": []
    },
    {
      "cell_type": "code",
      "metadata": {
        "id": "d11QzPnfsFoz"
      },
      "source": [
        "df['Age'] = df['Age'].replace('Ca. 33', 33)"
      ],
      "execution_count": 318,
      "outputs": []
    },
    {
      "cell_type": "code",
      "metadata": {
        "id": "1MHG0S2XsFm3"
      },
      "source": [
        "df['Age'] = df['Age'].replace('9 & 12', 9)"
      ],
      "execution_count": 319,
      "outputs": []
    },
    {
      "cell_type": "code",
      "metadata": {
        "id": "2iJdcvEQsFjQ"
      },
      "source": [
        "df['Age'] = df['Age'].replace('25 to 35',25)"
      ],
      "execution_count": 320,
      "outputs": []
    },
    {
      "cell_type": "code",
      "metadata": {
        "id": "0W7k8t4tsFgR"
      },
      "source": [
        "df['Age'] = df['Age'].replace('23 & 26',23 )"
      ],
      "execution_count": 321,
      "outputs": []
    },
    {
      "cell_type": "code",
      "metadata": {
        "id": "nlY0iu3fsj60"
      },
      "source": [
        "df['Age'] = df['Age'].replace('33 & 37', 33)"
      ],
      "execution_count": 322,
      "outputs": []
    },
    {
      "cell_type": "code",
      "metadata": {
        "id": "tkFYAIIXsj2G"
      },
      "source": [
        "df['Age'] = df['Age'].replace('37, 67, 35, 27,  ? & 27', 27)"
      ],
      "execution_count": 323,
      "outputs": []
    },
    {
      "cell_type": "code",
      "metadata": {
        "id": "mLMVLfGzsjzv"
      },
      "source": [
        "df['Age'] = df['Age'].replace('21, 34,24 & 35',24 )"
      ],
      "execution_count": 324,
      "outputs": []
    },
    {
      "cell_type": "code",
      "metadata": {
        "id": "fs2Lvf8bsjwq"
      },
      "source": [
        "df['Age'] = df['Age'].replace('50 & 30',30 )"
      ],
      "execution_count": 325,
      "outputs": []
    },
    {
      "cell_type": "code",
      "metadata": {
        "id": "8czQPPd1sjtR"
      },
      "source": [
        "df['Age'] = df['Age'].replace('X', .5)"
      ],
      "execution_count": 326,
      "outputs": []
    },
    {
      "cell_type": "code",
      "metadata": {
        "id": "2pO5MJcBtBBk"
      },
      "source": [
        "df['Age'] = df['Age'].replace('34 & 19', 26)"
      ],
      "execution_count": 327,
      "outputs": []
    },
    {
      "cell_type": "code",
      "metadata": {
        "id": "aO_K334ttA7P"
      },
      "source": [
        "df['Age'] = df['Age'].replace('33 & 26', 26)"
      ],
      "execution_count": 328,
      "outputs": []
    },
    {
      "cell_type": "code",
      "metadata": {
        "id": "rVgqhDcJtA0E"
      },
      "source": [
        "df['Age'] = df['Age'].replace('MAKE LINE GREEN', .5)"
      ],
      "execution_count": 329,
      "outputs": []
    },
    {
      "cell_type": "code",
      "metadata": {
        "id": "M5SASksDtAsl"
      },
      "source": [
        "df['Age'] = df['Age'].replace('\"young\"', 6)"
      ],
      "execution_count": 330,
      "outputs": []
    },
    {
      "cell_type": "code",
      "metadata": {
        "id": "zXYVYsfstAhO"
      },
      "source": [
        "df['Age'] = df['Age'].replace('7 or 8', 6)"
      ],
      "execution_count": 331,
      "outputs": []
    },
    {
      "cell_type": "code",
      "metadata": {
        "id": "kn1gtJjrtmkg"
      },
      "source": [
        "df['Age'] = df['Age'].replace('17 & 16',16 )"
      ],
      "execution_count": 332,
      "outputs": []
    },
    {
      "cell_type": "code",
      "metadata": {
        "id": "Goz73Rtqtmfi"
      },
      "source": [
        "df['Age'] = df['Age'].replace('F', .5)"
      ],
      "execution_count": 333,
      "outputs": []
    },
    {
      "cell_type": "code",
      "metadata": {
        "id": "k3NVXEmDtrTc"
      },
      "source": [
        "df['Age'] = df['Age'].replace('Both 11', 11)"
      ],
      "execution_count": 334,
      "outputs": []
    },
    {
      "cell_type": "code",
      "metadata": {
        "id": "VN--Li0ttrQy"
      },
      "source": [
        "df['Age'] = df['Age'].replace('9 or 10', 9)"
      ],
      "execution_count": 335,
      "outputs": []
    },
    {
      "cell_type": "code",
      "metadata": {
        "id": "vK21aYpDtrOA"
      },
      "source": [
        "df['Age'] = df['Age'].replace('young', 6)"
      ],
      "execution_count": 336,
      "outputs": []
    },
    {
      "cell_type": "code",
      "metadata": {
        "id": "y4So0KJJtrLR"
      },
      "source": [
        "df['Age'] = df['Age'].replace('36 & 23', 23)"
      ],
      "execution_count": 337,
      "outputs": []
    },
    {
      "cell_type": "code",
      "metadata": {
        "id": "cGH_httzuCna"
      },
      "source": [
        "df['Age'] = df['Age'].replace(\"  \", .5)"
      ],
      "execution_count": 338,
      "outputs": []
    },
    {
      "cell_type": "code",
      "metadata": {
        "id": "LG3dGSC9uCki"
      },
      "source": [
        "df['Age'] = df['Age'].replace('A.M.', .5)"
      ],
      "execution_count": 339,
      "outputs": []
    },
    {
      "cell_type": "code",
      "metadata": {
        "id": "lG1fdMkTuCfq"
      },
      "source": [
        "df['Age'] = df['Age'].replace('?    &   14', 14)"
      ],
      "execution_count": 340,
      "outputs": []
    },
    {
      "cell_type": "code",
      "metadata": {
        "id": "IZtwEj22uCcp"
      },
      "source": [
        "df['Age'] = df['Age'].replace('10 or 12', 12)"
      ],
      "execution_count": 341,
      "outputs": []
    },
    {
      "cell_type": "code",
      "metadata": {
        "id": "QurzlpsZucic"
      },
      "source": [
        "df['Age'] = df['Age'].replace('31 or 33',31 )"
      ],
      "execution_count": 342,
      "outputs": []
    },
    {
      "cell_type": "code",
      "metadata": {
        "id": "k-b1Lfqpucfj"
      },
      "source": [
        "df['Age'] = df['Age'].replace('2½', 2)"
      ],
      "execution_count": 343,
      "outputs": []
    },
    {
      "cell_type": "code",
      "metadata": {
        "id": "GvHlXbA2ucTC"
      },
      "source": [
        "df['Age'] = df['Age'].replace('13 or 14', 13)"
      ],
      "execution_count": 344,
      "outputs": []
    },
    {
      "cell_type": "code",
      "metadata": {
        "id": "3eHo9JoEtmWL"
      },
      "source": [
        "df['Age'] = df['Age'].replace('', )"
      ],
      "execution_count": 345,
      "outputs": []
    },
    {
      "cell_type": "code",
      "metadata": {
        "colab": {
          "base_uri": "https://localhost:8080/"
        },
        "id": "KBTg8rrBkvi2",
        "outputId": "65f46aea-b3da-4a5f-96a4-c71cf89d966c"
      },
      "source": [
        "df.Age.unique()"
      ],
      "execution_count": 346,
      "outputs": [
        {
          "output_type": "execute_result",
          "data": {
            "text/plain": [
              "array(['57', '11', '48', nan, '18', '52', '15', '12', '32', '10', '21',\n",
              "       '34', '30', '60', '33', '29', '54', '41', '37', '56', '19', '25',\n",
              "       '69', '38', '55', '35', '46', '45', '14', 20, '28', '20', '24',\n",
              "       '26', '49', '22', '7', '31', '17', '40', '13', '42', '3', '8',\n",
              "       '50', '16', '82', '73', '68', '51', '39', '58', 15, '47', '61',\n",
              "       '65', '36', '66', '43', '9', '72', '59', '6', '27', '64', '23',\n",
              "       '71', '44', '62', '63', '70', 0.5, '53', '77', '74', 26, '5', '86',\n",
              "       18, 12, 40, 23, 30, 8, '84', 6, 21, '75', 33, 35, ' 30', 19, ' 28',\n",
              "       16, '87', '67', 80, 25, '74 ', '45 ', '20 ', 49, 9, '1', 27, 24,\n",
              "       13, ' 43', '81', '78', 11, 14, 31, 2], dtype=object)"
            ]
          },
          "metadata": {
            "tags": []
          },
          "execution_count": 346
        }
      ]
    },
    {
      "cell_type": "code",
      "metadata": {
        "id": "o8-XzR4xqcqg"
      },
      "source": [
        "df['Age'] = pd.to_numeric(df['Age'])"
      ],
      "execution_count": 347,
      "outputs": []
    },
    {
      "cell_type": "code",
      "metadata": {
        "colab": {
          "base_uri": "https://localhost:8080/"
        },
        "id": "ifEJcvU_urxM",
        "outputId": "b56e9e6b-1e28-4c0d-cbec-293223e380e5"
      },
      "source": [
        "df.info()"
      ],
      "execution_count": 348,
      "outputs": [
        {
          "output_type": "stream",
          "text": [
            "<class 'pandas.core.frame.DataFrame'>\n",
            "Int64Index: 6302 entries, 0 to 6301\n",
            "Data columns (total 21 columns):\n",
            " #   Column                  Non-Null Count  Dtype  \n",
            "---  ------                  --------------  -----  \n",
            " 0   Case Number             6302 non-null   object \n",
            " 1   Date                    6302 non-null   object \n",
            " 2   Year                    6300 non-null   float64\n",
            " 3   Type                    6298 non-null   object \n",
            " 4   Country                 6252 non-null   object \n",
            " 5   Area                    5847 non-null   object \n",
            " 6   Location                5762 non-null   object \n",
            " 7   Activity                5758 non-null   object \n",
            " 8   Name                    6092 non-null   object \n",
            " 9   Sex                     5737 non-null   object \n",
            " 10  Age                     3471 non-null   float64\n",
            " 11  Injury                  6274 non-null   object \n",
            " 12  Fatal (Y/N)             5763 non-null   object \n",
            " 13  Time                    2948 non-null   object \n",
            " 14  Species                 3464 non-null   object \n",
            " 15  Investigator or Source  6285 non-null   object \n",
            " 16  pdf                     6302 non-null   object \n",
            " 17  href                    6302 non-null   object \n",
            " 18  original order          6302 non-null   float64\n",
            " 19  Unnamed: 22             1 non-null      object \n",
            " 20  Unnamed: 23             2 non-null      object \n",
            "dtypes: float64(3), object(18)\n",
            "memory usage: 1.2+ MB\n"
          ],
          "name": "stdout"
        }
      ]
    },
    {
      "cell_type": "code",
      "metadata": {
        "colab": {
          "base_uri": "https://localhost:8080/"
        },
        "id": "Ik7C0KkUuud8",
        "outputId": "2bbe4ab0-6a61-41fa-c49f-a823f5ddaa71"
      },
      "source": [
        "#veo el mayor número de nulos que aún quedan... \n",
        "(df.isnull().sum()).sort_values(ascending=False)"
      ],
      "execution_count": 349,
      "outputs": [
        {
          "output_type": "execute_result",
          "data": {
            "text/plain": [
              "Unnamed: 22               6301\n",
              "Unnamed: 23               6300\n",
              "Time                      3354\n",
              "Species                   2838\n",
              "Age                       2831\n",
              "Sex                        565\n",
              "Activity                   544\n",
              "Location                   540\n",
              "Fatal (Y/N)                539\n",
              "Area                       455\n",
              "Name                       210\n",
              "Country                     50\n",
              "Injury                      28\n",
              "Investigator or Source      17\n",
              "Type                         4\n",
              "Year                         2\n",
              "pdf                          0\n",
              "href                         0\n",
              "original order               0\n",
              "Date                         0\n",
              "Case Number                  0\n",
              "dtype: int64"
            ]
          },
          "metadata": {
            "tags": []
          },
          "execution_count": 349
        }
      ]
    },
    {
      "cell_type": "code",
      "metadata": {
        "id": "yRz25pZAu_SF"
      },
      "source": [
        "df=df.drop(['Unnamed: 22'], axis=1)"
      ],
      "execution_count": 350,
      "outputs": []
    },
    {
      "cell_type": "code",
      "metadata": {
        "id": "dReYI8Olv3Of"
      },
      "source": [
        "df=df.drop(['Unnamed: 23'], axis=1)"
      ],
      "execution_count": 351,
      "outputs": []
    },
    {
      "cell_type": "code",
      "metadata": {
        "colab": {
          "base_uri": "https://localhost:8080/"
        },
        "id": "OwpC5lYiwCEB",
        "outputId": "53cfe1d0-6859-4054-d71b-a81350492d7f"
      },
      "source": [
        "df.isnull().sum().sort_values(ascending=False)"
      ],
      "execution_count": 352,
      "outputs": [
        {
          "output_type": "execute_result",
          "data": {
            "text/plain": [
              "Time                      3354\n",
              "Species                   2838\n",
              "Age                       2831\n",
              "Sex                        565\n",
              "Activity                   544\n",
              "Location                   540\n",
              "Fatal (Y/N)                539\n",
              "Area                       455\n",
              "Name                       210\n",
              "Country                     50\n",
              "Injury                      28\n",
              "Investigator or Source      17\n",
              "Type                         4\n",
              "Year                         2\n",
              "Date                         0\n",
              "original order               0\n",
              "href                         0\n",
              "pdf                          0\n",
              "Case Number                  0\n",
              "dtype: int64"
            ]
          },
          "metadata": {
            "tags": []
          },
          "execution_count": 352
        }
      ]
    },
    {
      "cell_type": "code",
      "metadata": {
        "colab": {
          "base_uri": "https://localhost:8080/"
        },
        "id": "I_YBWfw9wLoP",
        "outputId": "8c0ae43e-c192-4501-aa30-b6df3718d49a"
      },
      "source": [
        "df.columns"
      ],
      "execution_count": 353,
      "outputs": [
        {
          "output_type": "execute_result",
          "data": {
            "text/plain": [
              "Index(['Case Number', 'Date', 'Year', 'Type', 'Country', 'Area', 'Location',\n",
              "       'Activity', 'Name', 'Sex', 'Age', 'Injury', 'Fatal (Y/N)', 'Time',\n",
              "       'Species', 'Investigator or Source', 'pdf', 'href', 'original order'],\n",
              "      dtype='object')"
            ]
          },
          "metadata": {
            "tags": []
          },
          "execution_count": 353
        }
      ]
    },
    {
      "cell_type": "code",
      "metadata": {
        "colab": {
          "base_uri": "https://localhost:8080/"
        },
        "id": "v6v7Qg-Axkg3",
        "outputId": "ff291eaf-5868-49e4-d4ae-6eb9e4bc3c25"
      },
      "source": [
        "df.Sex.unique()"
      ],
      "execution_count": 354,
      "outputs": [
        {
          "output_type": "execute_result",
          "data": {
            "text/plain": [
              "array(['F', 'M', nan, 'M ', 'lli', 'N', '.'], dtype=object)"
            ]
          },
          "metadata": {
            "tags": []
          },
          "execution_count": 354
        }
      ]
    },
    {
      "cell_type": "code",
      "metadata": {
        "id": "SpCevU_Rxmhu"
      },
      "source": [
        "df.Sex = df.Sex.replace('M ', 'M')"
      ],
      "execution_count": 358,
      "outputs": []
    },
    {
      "cell_type": "code",
      "metadata": {
        "id": "g5jiR5JvxzXC"
      },
      "source": [
        "df.Sex = df.Sex.replace('lli', 'N')"
      ],
      "execution_count": 362,
      "outputs": []
    },
    {
      "cell_type": "code",
      "metadata": {
        "id": "2XeFQRp3yYzj"
      },
      "source": [
        "df.Sex = df.Sex.replace ('.', 'N')"
      ],
      "execution_count": 364,
      "outputs": []
    },
    {
      "cell_type": "code",
      "metadata": {
        "colab": {
          "base_uri": "https://localhost:8080/"
        },
        "id": "bvbffvS0yM0-",
        "outputId": "bc401006-9e72-468a-9653-d481315bfd83"
      },
      "source": [
        "df.Sex.isnull().sum()"
      ],
      "execution_count": 373,
      "outputs": [
        {
          "output_type": "execute_result",
          "data": {
            "text/plain": [
              "565"
            ]
          },
          "metadata": {
            "tags": []
          },
          "execution_count": 373
        }
      ]
    },
    {
      "cell_type": "code",
      "metadata": {
        "id": "DR1r4y_Uz2Xb"
      },
      "source": [
        "df[['Sex']] = df[['Sex']].fillna('N')"
      ],
      "execution_count": 379,
      "outputs": []
    },
    {
      "cell_type": "code",
      "metadata": {
        "colab": {
          "base_uri": "https://localhost:8080/"
        },
        "id": "-9Gy294GzXm8",
        "outputId": "64014ad9-0a6c-4b7b-ec02-db6042fbe26e"
      },
      "source": [
        "df.Sex.unique()"
      ],
      "execution_count": 380,
      "outputs": [
        {
          "output_type": "execute_result",
          "data": {
            "text/plain": [
              "array(['N', 'F', 'M'], dtype=object)"
            ]
          },
          "metadata": {
            "tags": []
          },
          "execution_count": 380
        }
      ]
    },
    {
      "cell_type": "code",
      "metadata": {
        "colab": {
          "base_uri": "https://localhost:8080/"
        },
        "id": "cjhIuox91Qze",
        "outputId": "bbd84f96-0cae-4624-eb25-65ad845a3ef9"
      },
      "source": [
        "df.columns"
      ],
      "execution_count": 384,
      "outputs": [
        {
          "output_type": "execute_result",
          "data": {
            "text/plain": [
              "Index(['Case Number', 'Date', 'Year', 'Type', 'Country', 'Area', 'Location',\n",
              "       'Activity', 'Name', 'Sex', 'Age', 'Injury', 'Fatal (Y/N)', 'Time',\n",
              "       'Species', 'Investigator or Source', 'pdf', 'href', 'original order'],\n",
              "      dtype='object')"
            ]
          },
          "metadata": {
            "tags": []
          },
          "execution_count": 384
        }
      ]
    },
    {
      "cell_type": "code",
      "metadata": {
        "id": "QrPLK59M1Dk5"
      },
      "source": [
        "df.to_csv(\"/content/drive/MyDrive/Ironhack/Archivos/attacks_clean.csv\",index=False)"
      ],
      "execution_count": 392,
      "outputs": []
    },
    {
      "cell_type": "code",
      "metadata": {
        "colab": {
          "base_uri": "https://localhost:8080/",
          "height": 301
        },
        "id": "rZyrje7n4yoQ",
        "outputId": "3df1bea3-6e56-4aa0-9b8f-346195fe602a"
      },
      "source": [
        "df_clean = pd.read_csv ('/content/drive/MyDrive/Ironhack/Archivos/attacks_clean.csv')\n",
        "df.head(2)"
      ],
      "execution_count": 394,
      "outputs": [
        {
          "output_type": "execute_result",
          "data": {
            "text/html": [
              "<div>\n",
              "<style scoped>\n",
              "    .dataframe tbody tr th:only-of-type {\n",
              "        vertical-align: middle;\n",
              "    }\n",
              "\n",
              "    .dataframe tbody tr th {\n",
              "        vertical-align: top;\n",
              "    }\n",
              "\n",
              "    .dataframe thead th {\n",
              "        text-align: right;\n",
              "    }\n",
              "</style>\n",
              "<table border=\"1\" class=\"dataframe\">\n",
              "  <thead>\n",
              "    <tr style=\"text-align: right;\">\n",
              "      <th></th>\n",
              "      <th>Case Number</th>\n",
              "      <th>Date</th>\n",
              "      <th>Year</th>\n",
              "      <th>Type</th>\n",
              "      <th>Country</th>\n",
              "      <th>Area</th>\n",
              "      <th>Location</th>\n",
              "      <th>Activity</th>\n",
              "      <th>Name</th>\n",
              "      <th>Sex</th>\n",
              "      <th>Age</th>\n",
              "      <th>Injury</th>\n",
              "      <th>Fatal (Y/N)</th>\n",
              "      <th>Time</th>\n",
              "      <th>Species</th>\n",
              "      <th>Investigator or Source</th>\n",
              "      <th>pdf</th>\n",
              "      <th>href</th>\n",
              "      <th>original order</th>\n",
              "    </tr>\n",
              "  </thead>\n",
              "  <tbody>\n",
              "    <tr>\n",
              "      <th>0</th>\n",
              "      <td>2018.06.25</td>\n",
              "      <td>25-Jun-2018</td>\n",
              "      <td>2018.0</td>\n",
              "      <td>Boating</td>\n",
              "      <td>USA</td>\n",
              "      <td>California</td>\n",
              "      <td>Oceanside, San Diego County</td>\n",
              "      <td>Paddling</td>\n",
              "      <td>Julie Wolfe</td>\n",
              "      <td>N</td>\n",
              "      <td>57.0</td>\n",
              "      <td>No injury to occupant, outrigger canoe and pad...</td>\n",
              "      <td>N</td>\n",
              "      <td>18h00</td>\n",
              "      <td>White shark</td>\n",
              "      <td>R. Collier, GSAF</td>\n",
              "      <td>2018.06.25-Wolfe.pdf</td>\n",
              "      <td>http://sharkattackfile.net/spreadsheets/pdf_di...</td>\n",
              "      <td>6303.0</td>\n",
              "    </tr>\n",
              "    <tr>\n",
              "      <th>1</th>\n",
              "      <td>2018.06.18</td>\n",
              "      <td>18-Jun-2018</td>\n",
              "      <td>2018.0</td>\n",
              "      <td>Unprovoked</td>\n",
              "      <td>USA</td>\n",
              "      <td>Georgia</td>\n",
              "      <td>St. Simon Island, Glynn County</td>\n",
              "      <td>Standing</td>\n",
              "      <td>Adyson McNeely</td>\n",
              "      <td>F</td>\n",
              "      <td>11.0</td>\n",
              "      <td>Minor injury to left thigh</td>\n",
              "      <td>N</td>\n",
              "      <td>14h00  -15h00</td>\n",
              "      <td>NaN</td>\n",
              "      <td>K.McMurray, TrackingSharks.com</td>\n",
              "      <td>2018.06.18-McNeely.pdf</td>\n",
              "      <td>http://sharkattackfile.net/spreadsheets/pdf_di...</td>\n",
              "      <td>6302.0</td>\n",
              "    </tr>\n",
              "  </tbody>\n",
              "</table>\n",
              "</div>"
            ],
            "text/plain": [
              "  Case Number  ... original order\n",
              "0  2018.06.25  ...         6303.0\n",
              "1  2018.06.18  ...         6302.0\n",
              "\n",
              "[2 rows x 19 columns]"
            ]
          },
          "metadata": {
            "tags": []
          },
          "execution_count": 394
        }
      ]
    }
  ]
}